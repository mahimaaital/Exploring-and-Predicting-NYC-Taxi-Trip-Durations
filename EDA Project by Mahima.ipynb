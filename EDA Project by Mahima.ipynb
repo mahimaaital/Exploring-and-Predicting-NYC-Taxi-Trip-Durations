{
 "cells": [
  {
   "cell_type": "markdown",
   "id": "699125d9",
   "metadata": {},
   "source": [
    "# EDA Project - NYC Taxi Trip "
   ]
  },
  {
   "cell_type": "markdown",
   "id": "4bf57fd8",
   "metadata": {},
   "source": [
    "### Evaluation Metric (MAE)\n",
    "A suitable evaluation metric would be Mean Absolute Error (MAE). \n",
    "MAE is the average of the absolute differences between the predicted and actual values. This metric is preferred because it gives equal weightage to all errors and is less sensitive to outliers compared to other metrics such as Root Mean Squared Error (RMSE) and has the same scale as the target we are predicting."
   ]
  },
  {
   "cell_type": "code",
   "execution_count": 4,
   "id": "1b05c963",
   "metadata": {},
   "outputs": [],
   "source": [
    "# importing libraries\n",
    "import pandas as pd\n",
    "import numpy as np\n",
    "import matplotlib.pyplot as plt\n",
    "import seaborn as sns\n",
    "import datetime as dt\n",
    "from datetime import timedelta\n",
    "%matplotlib inline\n",
    "import warnings\n",
    "warnings.filterwarnings('ignore')"
   ]
  },
  {
   "cell_type": "code",
   "execution_count": 44,
   "id": "4d20e9ee",
   "metadata": {},
   "outputs": [
    {
     "data": {
      "text/html": [
       "<div>\n",
       "<style scoped>\n",
       "    .dataframe tbody tr th:only-of-type {\n",
       "        vertical-align: middle;\n",
       "    }\n",
       "\n",
       "    .dataframe tbody tr th {\n",
       "        vertical-align: top;\n",
       "    }\n",
       "\n",
       "    .dataframe thead th {\n",
       "        text-align: right;\n",
       "    }\n",
       "</style>\n",
       "<table border=\"1\" class=\"dataframe\">\n",
       "  <thead>\n",
       "    <tr style=\"text-align: right;\">\n",
       "      <th></th>\n",
       "      <th>id</th>\n",
       "      <th>vendor_id</th>\n",
       "      <th>pickup_datetime</th>\n",
       "      <th>dropoff_datetime</th>\n",
       "      <th>passenger_count</th>\n",
       "      <th>pickup_longitude</th>\n",
       "      <th>pickup_latitude</th>\n",
       "      <th>dropoff_longitude</th>\n",
       "      <th>dropoff_latitude</th>\n",
       "      <th>store_and_fwd_flag</th>\n",
       "      <th>trip_duration</th>\n",
       "    </tr>\n",
       "  </thead>\n",
       "  <tbody>\n",
       "    <tr>\n",
       "      <th>0</th>\n",
       "      <td>id1080784</td>\n",
       "      <td>2</td>\n",
       "      <td>2016-02-29 16:40:21</td>\n",
       "      <td>2016-02-29 16:47:01</td>\n",
       "      <td>1</td>\n",
       "      <td>-73.953918</td>\n",
       "      <td>40.778873</td>\n",
       "      <td>-73.963875</td>\n",
       "      <td>40.771164</td>\n",
       "      <td>N</td>\n",
       "      <td>400</td>\n",
       "    </tr>\n",
       "    <tr>\n",
       "      <th>1</th>\n",
       "      <td>id0889885</td>\n",
       "      <td>1</td>\n",
       "      <td>2016-03-11 23:35:37</td>\n",
       "      <td>2016-03-11 23:53:57</td>\n",
       "      <td>2</td>\n",
       "      <td>-73.988312</td>\n",
       "      <td>40.731743</td>\n",
       "      <td>-73.994751</td>\n",
       "      <td>40.694931</td>\n",
       "      <td>N</td>\n",
       "      <td>1100</td>\n",
       "    </tr>\n",
       "    <tr>\n",
       "      <th>2</th>\n",
       "      <td>id0857912</td>\n",
       "      <td>2</td>\n",
       "      <td>2016-02-21 17:59:33</td>\n",
       "      <td>2016-02-21 18:26:48</td>\n",
       "      <td>2</td>\n",
       "      <td>-73.997314</td>\n",
       "      <td>40.721458</td>\n",
       "      <td>-73.948029</td>\n",
       "      <td>40.774918</td>\n",
       "      <td>N</td>\n",
       "      <td>1635</td>\n",
       "    </tr>\n",
       "    <tr>\n",
       "      <th>3</th>\n",
       "      <td>id3744273</td>\n",
       "      <td>2</td>\n",
       "      <td>2016-01-05 09:44:31</td>\n",
       "      <td>2016-01-05 10:03:32</td>\n",
       "      <td>6</td>\n",
       "      <td>-73.961670</td>\n",
       "      <td>40.759720</td>\n",
       "      <td>-73.956779</td>\n",
       "      <td>40.780628</td>\n",
       "      <td>N</td>\n",
       "      <td>1141</td>\n",
       "    </tr>\n",
       "    <tr>\n",
       "      <th>4</th>\n",
       "      <td>id0232939</td>\n",
       "      <td>1</td>\n",
       "      <td>2016-02-17 06:42:23</td>\n",
       "      <td>2016-02-17 06:56:31</td>\n",
       "      <td>1</td>\n",
       "      <td>-74.017120</td>\n",
       "      <td>40.708469</td>\n",
       "      <td>-73.988182</td>\n",
       "      <td>40.740631</td>\n",
       "      <td>N</td>\n",
       "      <td>848</td>\n",
       "    </tr>\n",
       "  </tbody>\n",
       "</table>\n",
       "</div>"
      ],
      "text/plain": [
       "          id  vendor_id      pickup_datetime     dropoff_datetime  \\\n",
       "0  id1080784          2  2016-02-29 16:40:21  2016-02-29 16:47:01   \n",
       "1  id0889885          1  2016-03-11 23:35:37  2016-03-11 23:53:57   \n",
       "2  id0857912          2  2016-02-21 17:59:33  2016-02-21 18:26:48   \n",
       "3  id3744273          2  2016-01-05 09:44:31  2016-01-05 10:03:32   \n",
       "4  id0232939          1  2016-02-17 06:42:23  2016-02-17 06:56:31   \n",
       "\n",
       "   passenger_count  pickup_longitude  pickup_latitude  dropoff_longitude  \\\n",
       "0                1        -73.953918        40.778873         -73.963875   \n",
       "1                2        -73.988312        40.731743         -73.994751   \n",
       "2                2        -73.997314        40.721458         -73.948029   \n",
       "3                6        -73.961670        40.759720         -73.956779   \n",
       "4                1        -74.017120        40.708469         -73.988182   \n",
       "\n",
       "   dropoff_latitude store_and_fwd_flag  trip_duration  \n",
       "0         40.771164                  N            400  \n",
       "1         40.694931                  N           1100  \n",
       "2         40.774918                  N           1635  \n",
       "3         40.780628                  N           1141  \n",
       "4         40.740631                  N            848  "
      ]
     },
     "execution_count": 44,
     "metadata": {},
     "output_type": "execute_result"
    }
   ],
   "source": [
    "#importing and reading the file to check imported data is correct.\n",
    "data= pd.read_csv(\"C:/Users/aitha/OneDrive/Desktop/EDA_NYC_Taxi (1)/nyc_taxi_trip_duration.csv\")\n",
    "data.head()"
   ]
  },
  {
   "cell_type": "code",
   "execution_count": 45,
   "id": "5763515c",
   "metadata": {},
   "outputs": [
    {
     "data": {
      "text/plain": [
       "(729322, 11)"
      ]
     },
     "execution_count": 45,
     "metadata": {},
     "output_type": "execute_result"
    }
   ],
   "source": [
    "# finding out the rows and columns of data\n",
    "data.shape"
   ]
  },
  {
   "cell_type": "code",
   "execution_count": 46,
   "id": "c44b382c",
   "metadata": {},
   "outputs": [],
   "source": [
    "# Coverting trip_duration from seconds to hours\n",
    "data['trip_duration'] = data['trip_duration'].apply(lambda x: x/3600)\n"
   ]
  },
  {
   "cell_type": "code",
   "execution_count": 47,
   "id": "eeb9e75b",
   "metadata": {},
   "outputs": [],
   "source": [
    "# Converting yes and no flag into 1 and 0\n",
    "data['store_and_fwd_flag'] = 1 * (data.store_and_fwd_flag.values == 'Y')"
   ]
  },
  {
   "cell_type": "code",
   "execution_count": 48,
   "id": "1eb15559",
   "metadata": {},
   "outputs": [
    {
     "data": {
      "text/html": [
       "<div>\n",
       "<style scoped>\n",
       "    .dataframe tbody tr th:only-of-type {\n",
       "        vertical-align: middle;\n",
       "    }\n",
       "\n",
       "    .dataframe tbody tr th {\n",
       "        vertical-align: top;\n",
       "    }\n",
       "\n",
       "    .dataframe thead th {\n",
       "        text-align: right;\n",
       "    }\n",
       "</style>\n",
       "<table border=\"1\" class=\"dataframe\">\n",
       "  <thead>\n",
       "    <tr style=\"text-align: right;\">\n",
       "      <th></th>\n",
       "      <th>id</th>\n",
       "      <th>vendor_id</th>\n",
       "      <th>pickup_datetime</th>\n",
       "      <th>dropoff_datetime</th>\n",
       "      <th>passenger_count</th>\n",
       "      <th>pickup_longitude</th>\n",
       "      <th>pickup_latitude</th>\n",
       "      <th>dropoff_longitude</th>\n",
       "      <th>dropoff_latitude</th>\n",
       "      <th>store_and_fwd_flag</th>\n",
       "      <th>trip_duration</th>\n",
       "    </tr>\n",
       "  </thead>\n",
       "  <tbody>\n",
       "    <tr>\n",
       "      <th>0</th>\n",
       "      <td>id1080784</td>\n",
       "      <td>2</td>\n",
       "      <td>2016-02-29 16:40:21</td>\n",
       "      <td>2016-02-29 16:47:01</td>\n",
       "      <td>1</td>\n",
       "      <td>-73.953918</td>\n",
       "      <td>40.778873</td>\n",
       "      <td>-73.963875</td>\n",
       "      <td>40.771164</td>\n",
       "      <td>0</td>\n",
       "      <td>0.111111</td>\n",
       "    </tr>\n",
       "    <tr>\n",
       "      <th>1</th>\n",
       "      <td>id0889885</td>\n",
       "      <td>1</td>\n",
       "      <td>2016-03-11 23:35:37</td>\n",
       "      <td>2016-03-11 23:53:57</td>\n",
       "      <td>2</td>\n",
       "      <td>-73.988312</td>\n",
       "      <td>40.731743</td>\n",
       "      <td>-73.994751</td>\n",
       "      <td>40.694931</td>\n",
       "      <td>0</td>\n",
       "      <td>0.305556</td>\n",
       "    </tr>\n",
       "    <tr>\n",
       "      <th>2</th>\n",
       "      <td>id0857912</td>\n",
       "      <td>2</td>\n",
       "      <td>2016-02-21 17:59:33</td>\n",
       "      <td>2016-02-21 18:26:48</td>\n",
       "      <td>2</td>\n",
       "      <td>-73.997314</td>\n",
       "      <td>40.721458</td>\n",
       "      <td>-73.948029</td>\n",
       "      <td>40.774918</td>\n",
       "      <td>0</td>\n",
       "      <td>0.454167</td>\n",
       "    </tr>\n",
       "    <tr>\n",
       "      <th>3</th>\n",
       "      <td>id3744273</td>\n",
       "      <td>2</td>\n",
       "      <td>2016-01-05 09:44:31</td>\n",
       "      <td>2016-01-05 10:03:32</td>\n",
       "      <td>6</td>\n",
       "      <td>-73.961670</td>\n",
       "      <td>40.759720</td>\n",
       "      <td>-73.956779</td>\n",
       "      <td>40.780628</td>\n",
       "      <td>0</td>\n",
       "      <td>0.316944</td>\n",
       "    </tr>\n",
       "    <tr>\n",
       "      <th>4</th>\n",
       "      <td>id0232939</td>\n",
       "      <td>1</td>\n",
       "      <td>2016-02-17 06:42:23</td>\n",
       "      <td>2016-02-17 06:56:31</td>\n",
       "      <td>1</td>\n",
       "      <td>-74.017120</td>\n",
       "      <td>40.708469</td>\n",
       "      <td>-73.988182</td>\n",
       "      <td>40.740631</td>\n",
       "      <td>0</td>\n",
       "      <td>0.235556</td>\n",
       "    </tr>\n",
       "  </tbody>\n",
       "</table>\n",
       "</div>"
      ],
      "text/plain": [
       "          id  vendor_id      pickup_datetime     dropoff_datetime  \\\n",
       "0  id1080784          2  2016-02-29 16:40:21  2016-02-29 16:47:01   \n",
       "1  id0889885          1  2016-03-11 23:35:37  2016-03-11 23:53:57   \n",
       "2  id0857912          2  2016-02-21 17:59:33  2016-02-21 18:26:48   \n",
       "3  id3744273          2  2016-01-05 09:44:31  2016-01-05 10:03:32   \n",
       "4  id0232939          1  2016-02-17 06:42:23  2016-02-17 06:56:31   \n",
       "\n",
       "   passenger_count  pickup_longitude  pickup_latitude  dropoff_longitude  \\\n",
       "0                1        -73.953918        40.778873         -73.963875   \n",
       "1                2        -73.988312        40.731743         -73.994751   \n",
       "2                2        -73.997314        40.721458         -73.948029   \n",
       "3                6        -73.961670        40.759720         -73.956779   \n",
       "4                1        -74.017120        40.708469         -73.988182   \n",
       "\n",
       "   dropoff_latitude  store_and_fwd_flag  trip_duration  \n",
       "0         40.771164                   0       0.111111  \n",
       "1         40.694931                   0       0.305556  \n",
       "2         40.774918                   0       0.454167  \n",
       "3         40.780628                   0       0.316944  \n",
       "4         40.740631                   0       0.235556  "
      ]
     },
     "execution_count": 48,
     "metadata": {},
     "output_type": "execute_result"
    }
   ],
   "source": [
    "# Checking the above codes are done correctly\n",
    "data.head()"
   ]
  },
  {
   "cell_type": "code",
   "execution_count": 49,
   "id": "e68bcc71",
   "metadata": {},
   "outputs": [
    {
     "data": {
      "text/plain": [
       "id                     object\n",
       "vendor_id               int64\n",
       "pickup_datetime        object\n",
       "dropoff_datetime       object\n",
       "passenger_count         int64\n",
       "pickup_longitude      float64\n",
       "pickup_latitude       float64\n",
       "dropoff_longitude     float64\n",
       "dropoff_latitude      float64\n",
       "store_and_fwd_flag      int32\n",
       "trip_duration         float64\n",
       "dtype: object"
      ]
     },
     "execution_count": 49,
     "metadata": {},
     "output_type": "execute_result"
    }
   ],
   "source": [
    "# checking datatypes of data\n",
    "data.dtypes"
   ]
  },
  {
   "cell_type": "code",
   "execution_count": 50,
   "id": "396216d0",
   "metadata": {},
   "outputs": [
    {
     "data": {
      "text/plain": [
       "id                    0\n",
       "vendor_id             0\n",
       "pickup_datetime       0\n",
       "dropoff_datetime      0\n",
       "passenger_count       0\n",
       "pickup_longitude      0\n",
       "pickup_latitude       0\n",
       "dropoff_longitude     0\n",
       "dropoff_latitude      0\n",
       "store_and_fwd_flag    0\n",
       "trip_duration         0\n",
       "dtype: int64"
      ]
     },
     "execution_count": 50,
     "metadata": {},
     "output_type": "execute_result"
    }
   ],
   "source": [
    "#checking missing value\n",
    "data.isnull().sum()"
   ]
  },
  {
   "cell_type": "markdown",
   "id": "e632e4d8",
   "metadata": {},
   "source": [
    "#### From this we can conclude there is no missing values."
   ]
  },
  {
   "cell_type": "code",
   "execution_count": 35,
   "id": "345d41da",
   "metadata": {},
   "outputs": [
    {
     "data": {
      "text/html": [
       "<div>\n",
       "<style scoped>\n",
       "    .dataframe tbody tr th:only-of-type {\n",
       "        vertical-align: middle;\n",
       "    }\n",
       "\n",
       "    .dataframe tbody tr th {\n",
       "        vertical-align: top;\n",
       "    }\n",
       "\n",
       "    .dataframe thead th {\n",
       "        text-align: right;\n",
       "    }\n",
       "</style>\n",
       "<table border=\"1\" class=\"dataframe\">\n",
       "  <thead>\n",
       "    <tr style=\"text-align: right;\">\n",
       "      <th></th>\n",
       "      <th>vendor_id</th>\n",
       "      <th>passenger_count</th>\n",
       "      <th>pickup_longitude</th>\n",
       "      <th>pickup_latitude</th>\n",
       "      <th>dropoff_longitude</th>\n",
       "      <th>dropoff_latitude</th>\n",
       "      <th>store_and_fwd_flag</th>\n",
       "      <th>trip_duration</th>\n",
       "    </tr>\n",
       "  </thead>\n",
       "  <tbody>\n",
       "    <tr>\n",
       "      <th>count</th>\n",
       "      <td>729322.000000</td>\n",
       "      <td>729322.000000</td>\n",
       "      <td>729322.000000</td>\n",
       "      <td>729322.000000</td>\n",
       "      <td>729322.000000</td>\n",
       "      <td>729322.000000</td>\n",
       "      <td>729322.000000</td>\n",
       "      <td>729322.000000</td>\n",
       "    </tr>\n",
       "    <tr>\n",
       "      <th>mean</th>\n",
       "      <td>1.535403</td>\n",
       "      <td>1.662055</td>\n",
       "      <td>-73.973513</td>\n",
       "      <td>40.750919</td>\n",
       "      <td>-73.973422</td>\n",
       "      <td>40.751775</td>\n",
       "      <td>0.005539</td>\n",
       "      <td>0.264508</td>\n",
       "    </tr>\n",
       "    <tr>\n",
       "      <th>std</th>\n",
       "      <td>0.498745</td>\n",
       "      <td>1.312446</td>\n",
       "      <td>0.069754</td>\n",
       "      <td>0.033594</td>\n",
       "      <td>0.069588</td>\n",
       "      <td>0.036037</td>\n",
       "      <td>0.074221</td>\n",
       "      <td>1.073507</td>\n",
       "    </tr>\n",
       "    <tr>\n",
       "      <th>min</th>\n",
       "      <td>1.000000</td>\n",
       "      <td>0.000000</td>\n",
       "      <td>-121.933342</td>\n",
       "      <td>34.712234</td>\n",
       "      <td>-121.933304</td>\n",
       "      <td>32.181141</td>\n",
       "      <td>0.000000</td>\n",
       "      <td>0.000278</td>\n",
       "    </tr>\n",
       "    <tr>\n",
       "      <th>25%</th>\n",
       "      <td>1.000000</td>\n",
       "      <td>1.000000</td>\n",
       "      <td>-73.991859</td>\n",
       "      <td>40.737335</td>\n",
       "      <td>-73.991318</td>\n",
       "      <td>40.735931</td>\n",
       "      <td>0.000000</td>\n",
       "      <td>0.110278</td>\n",
       "    </tr>\n",
       "    <tr>\n",
       "      <th>50%</th>\n",
       "      <td>2.000000</td>\n",
       "      <td>1.000000</td>\n",
       "      <td>-73.981758</td>\n",
       "      <td>40.754070</td>\n",
       "      <td>-73.979759</td>\n",
       "      <td>40.754509</td>\n",
       "      <td>0.000000</td>\n",
       "      <td>0.184167</td>\n",
       "    </tr>\n",
       "    <tr>\n",
       "      <th>75%</th>\n",
       "      <td>2.000000</td>\n",
       "      <td>2.000000</td>\n",
       "      <td>-73.967361</td>\n",
       "      <td>40.768314</td>\n",
       "      <td>-73.963036</td>\n",
       "      <td>40.769741</td>\n",
       "      <td>0.000000</td>\n",
       "      <td>0.298611</td>\n",
       "    </tr>\n",
       "    <tr>\n",
       "      <th>max</th>\n",
       "      <td>2.000000</td>\n",
       "      <td>9.000000</td>\n",
       "      <td>-65.897385</td>\n",
       "      <td>51.881084</td>\n",
       "      <td>-65.897385</td>\n",
       "      <td>43.921028</td>\n",
       "      <td>1.000000</td>\n",
       "      <td>538.815556</td>\n",
       "    </tr>\n",
       "  </tbody>\n",
       "</table>\n",
       "</div>"
      ],
      "text/plain": [
       "           vendor_id  passenger_count  pickup_longitude  pickup_latitude  \\\n",
       "count  729322.000000    729322.000000     729322.000000    729322.000000   \n",
       "mean        1.535403         1.662055        -73.973513        40.750919   \n",
       "std         0.498745         1.312446          0.069754         0.033594   \n",
       "min         1.000000         0.000000       -121.933342        34.712234   \n",
       "25%         1.000000         1.000000        -73.991859        40.737335   \n",
       "50%         2.000000         1.000000        -73.981758        40.754070   \n",
       "75%         2.000000         2.000000        -73.967361        40.768314   \n",
       "max         2.000000         9.000000        -65.897385        51.881084   \n",
       "\n",
       "       dropoff_longitude  dropoff_latitude  store_and_fwd_flag  trip_duration  \n",
       "count      729322.000000     729322.000000       729322.000000  729322.000000  \n",
       "mean          -73.973422         40.751775            0.005539       0.264508  \n",
       "std             0.069588          0.036037            0.074221       1.073507  \n",
       "min          -121.933304         32.181141            0.000000       0.000278  \n",
       "25%           -73.991318         40.735931            0.000000       0.110278  \n",
       "50%           -73.979759         40.754509            0.000000       0.184167  \n",
       "75%           -73.963036         40.769741            0.000000       0.298611  \n",
       "max           -65.897385         43.921028            1.000000     538.815556  "
      ]
     },
     "execution_count": 35,
     "metadata": {},
     "output_type": "execute_result"
    }
   ],
   "source": [
    "#Checking the statistics of data\n",
    "data.describe()"
   ]
  },
  {
   "cell_type": "code",
   "execution_count": 51,
   "id": "0498204e",
   "metadata": {},
   "outputs": [],
   "source": [
    "# Converting to datetime \n",
    "data['pickup_datetime'] = pd.to_datetime(data['pickup_datetime'])\n",
    "data['dropoff_datetime'] = pd.to_datetime(data['dropoff_datetime'])"
   ]
  },
  {
   "cell_type": "code",
   "execution_count": 52,
   "id": "c7ee7032",
   "metadata": {},
   "outputs": [
    {
     "data": {
      "text/plain": [
       "(729309, 12)"
      ]
     },
     "execution_count": 52,
     "metadata": {},
     "output_type": "execute_result"
    }
   ],
   "source": [
    "# Creating a new column to get trip_duration\n",
    "data['check_trip_duration'] = (data['dropoff_datetime'] - data['pickup_datetime']).map(lambda x: x.total_seconds())\n",
    "\n",
    "duration_difference = data[np.abs(data['check_trip_duration'].values  - data['trip_duration'].values) > 1]\n",
    "duration_difference.shape"
   ]
  },
  {
   "cell_type": "code",
   "execution_count": 53,
   "id": "9d37f35b",
   "metadata": {},
   "outputs": [
    {
     "data": {
      "text/plain": [
       "id                             object\n",
       "vendor_id                       int64\n",
       "pickup_datetime        datetime64[ns]\n",
       "dropoff_datetime       datetime64[ns]\n",
       "passenger_count                 int64\n",
       "pickup_longitude              float64\n",
       "pickup_latitude               float64\n",
       "dropoff_longitude             float64\n",
       "dropoff_latitude              float64\n",
       "store_and_fwd_flag              int32\n",
       "trip_duration                 float64\n",
       "check_trip_duration           float64\n",
       "dtype: object"
      ]
     },
     "execution_count": 53,
     "metadata": {},
     "output_type": "execute_result"
    }
   ],
   "source": [
    "data.dtypes "
   ]
  },
  {
   "cell_type": "code",
   "execution_count": 38,
   "id": "321e7227",
   "metadata": {},
   "outputs": [
    {
     "data": {
      "text/plain": [
       "(729322, 12)"
      ]
     },
     "execution_count": 38,
     "metadata": {},
     "output_type": "execute_result"
    }
   ],
   "source": [
    "data.shape"
   ]
  },
  {
   "cell_type": "code",
   "execution_count": 59,
   "id": "136b61bc",
   "metadata": {},
   "outputs": [],
   "source": [
    "# Extracting Information datetime from column and sepreating columns\n",
    "\n",
    "data['pickup_hour'] = data['pickup_datetime'].dt.hour\n",
    "data['day_of_week'] = data['pickup_datetime'].dt.weekday\n",
    "data['pickup_date'] = data['pickup_datetime'].dt.date\n",
    "data['dropoff_date'] = data['dropoff_datetime'].dt.date\n",
    "data['dropoff_hour'] = data['dropoff_datetime'].dt.hour"
   ]
  },
  {
   "cell_type": "code",
   "execution_count": 60,
   "id": "b0c92d2a",
   "metadata": {},
   "outputs": [
    {
     "data": {
      "text/html": [
       "<div>\n",
       "<style scoped>\n",
       "    .dataframe tbody tr th:only-of-type {\n",
       "        vertical-align: middle;\n",
       "    }\n",
       "\n",
       "    .dataframe tbody tr th {\n",
       "        vertical-align: top;\n",
       "    }\n",
       "\n",
       "    .dataframe thead th {\n",
       "        text-align: right;\n",
       "    }\n",
       "</style>\n",
       "<table border=\"1\" class=\"dataframe\">\n",
       "  <thead>\n",
       "    <tr style=\"text-align: right;\">\n",
       "      <th></th>\n",
       "      <th>id</th>\n",
       "      <th>vendor_id</th>\n",
       "      <th>pickup_datetime</th>\n",
       "      <th>dropoff_datetime</th>\n",
       "      <th>passenger_count</th>\n",
       "      <th>pickup_longitude</th>\n",
       "      <th>pickup_latitude</th>\n",
       "      <th>dropoff_longitude</th>\n",
       "      <th>dropoff_latitude</th>\n",
       "      <th>store_and_fwd_flag</th>\n",
       "      <th>trip_duration</th>\n",
       "      <th>check_trip_duration</th>\n",
       "      <th>day_of_week</th>\n",
       "      <th>pickup_date</th>\n",
       "      <th>dropoff_date</th>\n",
       "      <th>pickup_hour</th>\n",
       "      <th>dropoff_hour</th>\n",
       "    </tr>\n",
       "  </thead>\n",
       "  <tbody>\n",
       "    <tr>\n",
       "      <th>0</th>\n",
       "      <td>id1080784</td>\n",
       "      <td>2</td>\n",
       "      <td>2016-02-29 16:40:21</td>\n",
       "      <td>2016-02-29 16:47:01</td>\n",
       "      <td>1</td>\n",
       "      <td>-73.953918</td>\n",
       "      <td>40.778873</td>\n",
       "      <td>-73.963875</td>\n",
       "      <td>40.771164</td>\n",
       "      <td>0</td>\n",
       "      <td>0.111111</td>\n",
       "      <td>400.0</td>\n",
       "      <td>0</td>\n",
       "      <td>2016-02-29</td>\n",
       "      <td>2016-02-29</td>\n",
       "      <td>16</td>\n",
       "      <td>16</td>\n",
       "    </tr>\n",
       "    <tr>\n",
       "      <th>1</th>\n",
       "      <td>id0889885</td>\n",
       "      <td>1</td>\n",
       "      <td>2016-03-11 23:35:37</td>\n",
       "      <td>2016-03-11 23:53:57</td>\n",
       "      <td>2</td>\n",
       "      <td>-73.988312</td>\n",
       "      <td>40.731743</td>\n",
       "      <td>-73.994751</td>\n",
       "      <td>40.694931</td>\n",
       "      <td>0</td>\n",
       "      <td>0.305556</td>\n",
       "      <td>1100.0</td>\n",
       "      <td>4</td>\n",
       "      <td>2016-03-11</td>\n",
       "      <td>2016-03-11</td>\n",
       "      <td>23</td>\n",
       "      <td>23</td>\n",
       "    </tr>\n",
       "    <tr>\n",
       "      <th>2</th>\n",
       "      <td>id0857912</td>\n",
       "      <td>2</td>\n",
       "      <td>2016-02-21 17:59:33</td>\n",
       "      <td>2016-02-21 18:26:48</td>\n",
       "      <td>2</td>\n",
       "      <td>-73.997314</td>\n",
       "      <td>40.721458</td>\n",
       "      <td>-73.948029</td>\n",
       "      <td>40.774918</td>\n",
       "      <td>0</td>\n",
       "      <td>0.454167</td>\n",
       "      <td>1635.0</td>\n",
       "      <td>6</td>\n",
       "      <td>2016-02-21</td>\n",
       "      <td>2016-02-21</td>\n",
       "      <td>17</td>\n",
       "      <td>18</td>\n",
       "    </tr>\n",
       "    <tr>\n",
       "      <th>3</th>\n",
       "      <td>id3744273</td>\n",
       "      <td>2</td>\n",
       "      <td>2016-01-05 09:44:31</td>\n",
       "      <td>2016-01-05 10:03:32</td>\n",
       "      <td>6</td>\n",
       "      <td>-73.961670</td>\n",
       "      <td>40.759720</td>\n",
       "      <td>-73.956779</td>\n",
       "      <td>40.780628</td>\n",
       "      <td>0</td>\n",
       "      <td>0.316944</td>\n",
       "      <td>1141.0</td>\n",
       "      <td>1</td>\n",
       "      <td>2016-01-05</td>\n",
       "      <td>2016-01-05</td>\n",
       "      <td>9</td>\n",
       "      <td>10</td>\n",
       "    </tr>\n",
       "    <tr>\n",
       "      <th>4</th>\n",
       "      <td>id0232939</td>\n",
       "      <td>1</td>\n",
       "      <td>2016-02-17 06:42:23</td>\n",
       "      <td>2016-02-17 06:56:31</td>\n",
       "      <td>1</td>\n",
       "      <td>-74.017120</td>\n",
       "      <td>40.708469</td>\n",
       "      <td>-73.988182</td>\n",
       "      <td>40.740631</td>\n",
       "      <td>0</td>\n",
       "      <td>0.235556</td>\n",
       "      <td>848.0</td>\n",
       "      <td>2</td>\n",
       "      <td>2016-02-17</td>\n",
       "      <td>2016-02-17</td>\n",
       "      <td>6</td>\n",
       "      <td>6</td>\n",
       "    </tr>\n",
       "  </tbody>\n",
       "</table>\n",
       "</div>"
      ],
      "text/plain": [
       "          id  vendor_id     pickup_datetime    dropoff_datetime  \\\n",
       "0  id1080784          2 2016-02-29 16:40:21 2016-02-29 16:47:01   \n",
       "1  id0889885          1 2016-03-11 23:35:37 2016-03-11 23:53:57   \n",
       "2  id0857912          2 2016-02-21 17:59:33 2016-02-21 18:26:48   \n",
       "3  id3744273          2 2016-01-05 09:44:31 2016-01-05 10:03:32   \n",
       "4  id0232939          1 2016-02-17 06:42:23 2016-02-17 06:56:31   \n",
       "\n",
       "   passenger_count  pickup_longitude  pickup_latitude  dropoff_longitude  \\\n",
       "0                1        -73.953918        40.778873         -73.963875   \n",
       "1                2        -73.988312        40.731743         -73.994751   \n",
       "2                2        -73.997314        40.721458         -73.948029   \n",
       "3                6        -73.961670        40.759720         -73.956779   \n",
       "4                1        -74.017120        40.708469         -73.988182   \n",
       "\n",
       "   dropoff_latitude  store_and_fwd_flag  trip_duration  check_trip_duration  \\\n",
       "0         40.771164                   0       0.111111                400.0   \n",
       "1         40.694931                   0       0.305556               1100.0   \n",
       "2         40.774918                   0       0.454167               1635.0   \n",
       "3         40.780628                   0       0.316944               1141.0   \n",
       "4         40.740631                   0       0.235556                848.0   \n",
       "\n",
       "   day_of_week pickup_date dropoff_date  pickup_hour  dropoff_hour  \n",
       "0            0  2016-02-29   2016-02-29           16            16  \n",
       "1            4  2016-03-11   2016-03-11           23            23  \n",
       "2            6  2016-02-21   2016-02-21           17            18  \n",
       "3            1  2016-01-05   2016-01-05            9            10  \n",
       "4            2  2016-02-17   2016-02-17            6             6  "
      ]
     },
     "execution_count": 60,
     "metadata": {},
     "output_type": "execute_result"
    }
   ],
   "source": [
    "#checking with head()function\n",
    "data.head()"
   ]
  },
  {
   "cell_type": "code",
   "execution_count": 61,
   "id": "211d619d",
   "metadata": {},
   "outputs": [],
   "source": [
    "def time_of_day(x):\n",
    "    # to calculate what time of it is now\n",
    "    if x in range(6,12):\n",
    "        return 'Morning'\n",
    "    elif x in range(12,16):\n",
    "        return 'Afternoon'\n",
    "    elif x in range(16,22):\n",
    "        return 'Evening'\n",
    "    else:\n",
    "        return 'Late night'\n",
    "\n",
    "data['pickup_time_of_day'] = data['pickup_hour'].apply(time_of_day)\n",
    "data['dropoff_time_of_day'] = data['dropoff_hour'].apply(time_of_day)"
   ]
  },
  {
   "cell_type": "code",
   "execution_count": 66,
   "id": "5f63bb93",
   "metadata": {},
   "outputs": [],
   "source": [
    "data.drop(columns=['pickup_hour','dropoff_hour'], inplace=True)"
   ]
  },
  {
   "cell_type": "code",
   "execution_count": 67,
   "id": "ebba2557",
   "metadata": {},
   "outputs": [
    {
     "data": {
      "text/html": [
       "<div>\n",
       "<style scoped>\n",
       "    .dataframe tbody tr th:only-of-type {\n",
       "        vertical-align: middle;\n",
       "    }\n",
       "\n",
       "    .dataframe tbody tr th {\n",
       "        vertical-align: top;\n",
       "    }\n",
       "\n",
       "    .dataframe thead th {\n",
       "        text-align: right;\n",
       "    }\n",
       "</style>\n",
       "<table border=\"1\" class=\"dataframe\">\n",
       "  <thead>\n",
       "    <tr style=\"text-align: right;\">\n",
       "      <th></th>\n",
       "      <th>id</th>\n",
       "      <th>vendor_id</th>\n",
       "      <th>pickup_datetime</th>\n",
       "      <th>dropoff_datetime</th>\n",
       "      <th>passenger_count</th>\n",
       "      <th>pickup_longitude</th>\n",
       "      <th>pickup_latitude</th>\n",
       "      <th>dropoff_longitude</th>\n",
       "      <th>dropoff_latitude</th>\n",
       "      <th>store_and_fwd_flag</th>\n",
       "      <th>trip_duration</th>\n",
       "      <th>check_trip_duration</th>\n",
       "      <th>day_of_week</th>\n",
       "      <th>pickup_date</th>\n",
       "      <th>dropoff_date</th>\n",
       "      <th>pickup_time_of_day</th>\n",
       "      <th>dropoff_time_of_day</th>\n",
       "    </tr>\n",
       "  </thead>\n",
       "  <tbody>\n",
       "    <tr>\n",
       "      <th>0</th>\n",
       "      <td>id1080784</td>\n",
       "      <td>2</td>\n",
       "      <td>2016-02-29 16:40:21</td>\n",
       "      <td>2016-02-29 16:47:01</td>\n",
       "      <td>1</td>\n",
       "      <td>-73.953918</td>\n",
       "      <td>40.778873</td>\n",
       "      <td>-73.963875</td>\n",
       "      <td>40.771164</td>\n",
       "      <td>0</td>\n",
       "      <td>0.111111</td>\n",
       "      <td>400.0</td>\n",
       "      <td>0</td>\n",
       "      <td>2016-02-29</td>\n",
       "      <td>2016-02-29</td>\n",
       "      <td>Evening</td>\n",
       "      <td>Evening</td>\n",
       "    </tr>\n",
       "    <tr>\n",
       "      <th>1</th>\n",
       "      <td>id0889885</td>\n",
       "      <td>1</td>\n",
       "      <td>2016-03-11 23:35:37</td>\n",
       "      <td>2016-03-11 23:53:57</td>\n",
       "      <td>2</td>\n",
       "      <td>-73.988312</td>\n",
       "      <td>40.731743</td>\n",
       "      <td>-73.994751</td>\n",
       "      <td>40.694931</td>\n",
       "      <td>0</td>\n",
       "      <td>0.305556</td>\n",
       "      <td>1100.0</td>\n",
       "      <td>4</td>\n",
       "      <td>2016-03-11</td>\n",
       "      <td>2016-03-11</td>\n",
       "      <td>Late night</td>\n",
       "      <td>Late night</td>\n",
       "    </tr>\n",
       "    <tr>\n",
       "      <th>2</th>\n",
       "      <td>id0857912</td>\n",
       "      <td>2</td>\n",
       "      <td>2016-02-21 17:59:33</td>\n",
       "      <td>2016-02-21 18:26:48</td>\n",
       "      <td>2</td>\n",
       "      <td>-73.997314</td>\n",
       "      <td>40.721458</td>\n",
       "      <td>-73.948029</td>\n",
       "      <td>40.774918</td>\n",
       "      <td>0</td>\n",
       "      <td>0.454167</td>\n",
       "      <td>1635.0</td>\n",
       "      <td>6</td>\n",
       "      <td>2016-02-21</td>\n",
       "      <td>2016-02-21</td>\n",
       "      <td>Evening</td>\n",
       "      <td>Evening</td>\n",
       "    </tr>\n",
       "    <tr>\n",
       "      <th>3</th>\n",
       "      <td>id3744273</td>\n",
       "      <td>2</td>\n",
       "      <td>2016-01-05 09:44:31</td>\n",
       "      <td>2016-01-05 10:03:32</td>\n",
       "      <td>6</td>\n",
       "      <td>-73.961670</td>\n",
       "      <td>40.759720</td>\n",
       "      <td>-73.956779</td>\n",
       "      <td>40.780628</td>\n",
       "      <td>0</td>\n",
       "      <td>0.316944</td>\n",
       "      <td>1141.0</td>\n",
       "      <td>1</td>\n",
       "      <td>2016-01-05</td>\n",
       "      <td>2016-01-05</td>\n",
       "      <td>Morning</td>\n",
       "      <td>Morning</td>\n",
       "    </tr>\n",
       "    <tr>\n",
       "      <th>4</th>\n",
       "      <td>id0232939</td>\n",
       "      <td>1</td>\n",
       "      <td>2016-02-17 06:42:23</td>\n",
       "      <td>2016-02-17 06:56:31</td>\n",
       "      <td>1</td>\n",
       "      <td>-74.017120</td>\n",
       "      <td>40.708469</td>\n",
       "      <td>-73.988182</td>\n",
       "      <td>40.740631</td>\n",
       "      <td>0</td>\n",
       "      <td>0.235556</td>\n",
       "      <td>848.0</td>\n",
       "      <td>2</td>\n",
       "      <td>2016-02-17</td>\n",
       "      <td>2016-02-17</td>\n",
       "      <td>Morning</td>\n",
       "      <td>Morning</td>\n",
       "    </tr>\n",
       "  </tbody>\n",
       "</table>\n",
       "</div>"
      ],
      "text/plain": [
       "          id  vendor_id     pickup_datetime    dropoff_datetime  \\\n",
       "0  id1080784          2 2016-02-29 16:40:21 2016-02-29 16:47:01   \n",
       "1  id0889885          1 2016-03-11 23:35:37 2016-03-11 23:53:57   \n",
       "2  id0857912          2 2016-02-21 17:59:33 2016-02-21 18:26:48   \n",
       "3  id3744273          2 2016-01-05 09:44:31 2016-01-05 10:03:32   \n",
       "4  id0232939          1 2016-02-17 06:42:23 2016-02-17 06:56:31   \n",
       "\n",
       "   passenger_count  pickup_longitude  pickup_latitude  dropoff_longitude  \\\n",
       "0                1        -73.953918        40.778873         -73.963875   \n",
       "1                2        -73.988312        40.731743         -73.994751   \n",
       "2                2        -73.997314        40.721458         -73.948029   \n",
       "3                6        -73.961670        40.759720         -73.956779   \n",
       "4                1        -74.017120        40.708469         -73.988182   \n",
       "\n",
       "   dropoff_latitude  store_and_fwd_flag  trip_duration  check_trip_duration  \\\n",
       "0         40.771164                   0       0.111111                400.0   \n",
       "1         40.694931                   0       0.305556               1100.0   \n",
       "2         40.774918                   0       0.454167               1635.0   \n",
       "3         40.780628                   0       0.316944               1141.0   \n",
       "4         40.740631                   0       0.235556                848.0   \n",
       "\n",
       "   day_of_week pickup_date dropoff_date pickup_time_of_day dropoff_time_of_day  \n",
       "0            0  2016-02-29   2016-02-29            Evening             Evening  \n",
       "1            4  2016-03-11   2016-03-11         Late night          Late night  \n",
       "2            6  2016-02-21   2016-02-21            Evening             Evening  \n",
       "3            1  2016-01-05   2016-01-05            Morning             Morning  \n",
       "4            2  2016-02-17   2016-02-17            Morning             Morning  "
      ]
     },
     "execution_count": 67,
     "metadata": {},
     "output_type": "execute_result"
    }
   ],
   "source": [
    "data.head()"
   ]
  },
  {
   "cell_type": "code",
   "execution_count": 68,
   "id": "74db8297",
   "metadata": {},
   "outputs": [
    {
     "data": {
      "text/plain": [
       "(729322, 17)"
      ]
     },
     "execution_count": 68,
     "metadata": {},
     "output_type": "execute_result"
    }
   ],
   "source": [
    "data.shape"
   ]
  },
  {
   "cell_type": "markdown",
   "id": "23686522",
   "metadata": {},
   "source": [
    "#### Since we are asked for model buliding in problem we skip the univariate and bivariate analysis and go for model buliding part\n"
   ]
  },
  {
   "cell_type": "markdown",
   "id": "16d770fa",
   "metadata": {},
   "source": [
    "## Benchmark model"
   ]
  },
  {
   "cell_type": "markdown",
   "id": "854b1a59",
   "metadata": {},
   "source": [
    "##### Shuffling and dividing data into Train and Test Set"
   ]
  },
  {
   "cell_type": "code",
   "execution_count": 197,
   "id": "09768b37",
   "metadata": {},
   "outputs": [],
   "source": [
    "from sklearn.utils import shuffle\n",
    "# Shuffling the Dataset and putting random state becoz every time we shuffle the value remains same\n",
    "data = shuffle(data, random_state = 42)"
   ]
  },
  {
   "cell_type": "code",
   "execution_count": 198,
   "id": "2ebbd016",
   "metadata": {},
   "outputs": [
    {
     "data": {
      "text/html": [
       "<div>\n",
       "<style scoped>\n",
       "    .dataframe tbody tr th:only-of-type {\n",
       "        vertical-align: middle;\n",
       "    }\n",
       "\n",
       "    .dataframe tbody tr th {\n",
       "        vertical-align: top;\n",
       "    }\n",
       "\n",
       "    .dataframe thead th {\n",
       "        text-align: right;\n",
       "    }\n",
       "</style>\n",
       "<table border=\"1\" class=\"dataframe\">\n",
       "  <thead>\n",
       "    <tr style=\"text-align: right;\">\n",
       "      <th></th>\n",
       "      <th>passenger_count</th>\n",
       "      <th>pickup_longitude</th>\n",
       "      <th>pickup_latitude</th>\n",
       "      <th>dropoff_longitude</th>\n",
       "      <th>dropoff_latitude</th>\n",
       "      <th>trip_duration</th>\n",
       "      <th>check_trip_duration</th>\n",
       "      <th>day_of_week</th>\n",
       "      <th>pickup_time_of_day</th>\n",
       "      <th>dropoff_time_of_day</th>\n",
       "    </tr>\n",
       "  </thead>\n",
       "  <tbody>\n",
       "    <tr>\n",
       "      <th>247177</th>\n",
       "      <td>1</td>\n",
       "      <td>-73.992981</td>\n",
       "      <td>40.737129</td>\n",
       "      <td>-73.981178</td>\n",
       "      <td>40.781891</td>\n",
       "      <td>0.420556</td>\n",
       "      <td>1514.0</td>\n",
       "      <td>6</td>\n",
       "      <td>Evening</td>\n",
       "      <td>Evening</td>\n",
       "    </tr>\n",
       "    <tr>\n",
       "      <th>41189</th>\n",
       "      <td>1</td>\n",
       "      <td>-73.962509</td>\n",
       "      <td>40.773117</td>\n",
       "      <td>-73.979301</td>\n",
       "      <td>40.755665</td>\n",
       "      <td>0.370000</td>\n",
       "      <td>1332.0</td>\n",
       "      <td>0</td>\n",
       "      <td>Morning</td>\n",
       "      <td>Afternoon</td>\n",
       "    </tr>\n",
       "    <tr>\n",
       "      <th>441690</th>\n",
       "      <td>1</td>\n",
       "      <td>-73.999649</td>\n",
       "      <td>40.718616</td>\n",
       "      <td>-73.982681</td>\n",
       "      <td>40.774021</td>\n",
       "      <td>0.511111</td>\n",
       "      <td>1840.0</td>\n",
       "      <td>5</td>\n",
       "      <td>Afternoon</td>\n",
       "      <td>Afternoon</td>\n",
       "    </tr>\n",
       "    <tr>\n",
       "      <th>246922</th>\n",
       "      <td>2</td>\n",
       "      <td>-73.972954</td>\n",
       "      <td>40.756306</td>\n",
       "      <td>-73.949081</td>\n",
       "      <td>40.775032</td>\n",
       "      <td>0.285278</td>\n",
       "      <td>1027.0</td>\n",
       "      <td>4</td>\n",
       "      <td>Evening</td>\n",
       "      <td>Evening</td>\n",
       "    </tr>\n",
       "    <tr>\n",
       "      <th>202073</th>\n",
       "      <td>2</td>\n",
       "      <td>-74.003334</td>\n",
       "      <td>40.743763</td>\n",
       "      <td>-74.004105</td>\n",
       "      <td>40.751137</td>\n",
       "      <td>0.081944</td>\n",
       "      <td>295.0</td>\n",
       "      <td>5</td>\n",
       "      <td>Evening</td>\n",
       "      <td>Evening</td>\n",
       "    </tr>\n",
       "  </tbody>\n",
       "</table>\n",
       "</div>"
      ],
      "text/plain": [
       "        passenger_count  pickup_longitude  pickup_latitude  dropoff_longitude  \\\n",
       "247177                1        -73.992981        40.737129         -73.981178   \n",
       "41189                 1        -73.962509        40.773117         -73.979301   \n",
       "441690                1        -73.999649        40.718616         -73.982681   \n",
       "246922                2        -73.972954        40.756306         -73.949081   \n",
       "202073                2        -74.003334        40.743763         -74.004105   \n",
       "\n",
       "        dropoff_latitude  trip_duration  check_trip_duration  day_of_week  \\\n",
       "247177         40.781891       0.420556               1514.0            6   \n",
       "41189          40.755665       0.370000               1332.0            0   \n",
       "441690         40.774021       0.511111               1840.0            5   \n",
       "246922         40.775032       0.285278               1027.0            4   \n",
       "202073         40.751137       0.081944                295.0            5   \n",
       "\n",
       "       pickup_time_of_day dropoff_time_of_day  \n",
       "247177            Evening             Evening  \n",
       "41189             Morning           Afternoon  \n",
       "441690          Afternoon           Afternoon  \n",
       "246922            Evening             Evening  \n",
       "202073            Evening             Evening  "
      ]
     },
     "execution_count": 198,
     "metadata": {},
     "output_type": "execute_result"
    }
   ],
   "source": [
    "data.head()"
   ]
  },
  {
   "cell_type": "code",
   "execution_count": 199,
   "id": "feb4f568",
   "metadata": {},
   "outputs": [
    {
     "data": {
      "text/html": [
       "<div>\n",
       "<style scoped>\n",
       "    .dataframe tbody tr th:only-of-type {\n",
       "        vertical-align: middle;\n",
       "    }\n",
       "\n",
       "    .dataframe tbody tr th {\n",
       "        vertical-align: top;\n",
       "    }\n",
       "\n",
       "    .dataframe thead th {\n",
       "        text-align: right;\n",
       "    }\n",
       "</style>\n",
       "<table border=\"1\" class=\"dataframe\">\n",
       "  <thead>\n",
       "    <tr style=\"text-align: right;\">\n",
       "      <th></th>\n",
       "      <th>passenger_count</th>\n",
       "      <th>pickup_longitude</th>\n",
       "      <th>pickup_latitude</th>\n",
       "      <th>dropoff_longitude</th>\n",
       "      <th>dropoff_latitude</th>\n",
       "      <th>trip_duration</th>\n",
       "      <th>check_trip_duration</th>\n",
       "      <th>day_of_week</th>\n",
       "      <th>pickup_time_of_day</th>\n",
       "      <th>dropoff_time_of_day</th>\n",
       "    </tr>\n",
       "  </thead>\n",
       "  <tbody>\n",
       "    <tr>\n",
       "      <th>247177</th>\n",
       "      <td>1</td>\n",
       "      <td>-73.992981</td>\n",
       "      <td>40.737129</td>\n",
       "      <td>-73.981178</td>\n",
       "      <td>40.781891</td>\n",
       "      <td>0.420556</td>\n",
       "      <td>1514.0</td>\n",
       "      <td>6</td>\n",
       "      <td>Evening</td>\n",
       "      <td>Evening</td>\n",
       "    </tr>\n",
       "    <tr>\n",
       "      <th>41189</th>\n",
       "      <td>1</td>\n",
       "      <td>-73.962509</td>\n",
       "      <td>40.773117</td>\n",
       "      <td>-73.979301</td>\n",
       "      <td>40.755665</td>\n",
       "      <td>0.370000</td>\n",
       "      <td>1332.0</td>\n",
       "      <td>0</td>\n",
       "      <td>Morning</td>\n",
       "      <td>Afternoon</td>\n",
       "    </tr>\n",
       "    <tr>\n",
       "      <th>441690</th>\n",
       "      <td>1</td>\n",
       "      <td>-73.999649</td>\n",
       "      <td>40.718616</td>\n",
       "      <td>-73.982681</td>\n",
       "      <td>40.774021</td>\n",
       "      <td>0.511111</td>\n",
       "      <td>1840.0</td>\n",
       "      <td>5</td>\n",
       "      <td>Afternoon</td>\n",
       "      <td>Afternoon</td>\n",
       "    </tr>\n",
       "    <tr>\n",
       "      <th>246922</th>\n",
       "      <td>2</td>\n",
       "      <td>-73.972954</td>\n",
       "      <td>40.756306</td>\n",
       "      <td>-73.949081</td>\n",
       "      <td>40.775032</td>\n",
       "      <td>0.285278</td>\n",
       "      <td>1027.0</td>\n",
       "      <td>4</td>\n",
       "      <td>Evening</td>\n",
       "      <td>Evening</td>\n",
       "    </tr>\n",
       "    <tr>\n",
       "      <th>202073</th>\n",
       "      <td>2</td>\n",
       "      <td>-74.003334</td>\n",
       "      <td>40.743763</td>\n",
       "      <td>-74.004105</td>\n",
       "      <td>40.751137</td>\n",
       "      <td>0.081944</td>\n",
       "      <td>295.0</td>\n",
       "      <td>5</td>\n",
       "      <td>Evening</td>\n",
       "      <td>Evening</td>\n",
       "    </tr>\n",
       "  </tbody>\n",
       "</table>\n",
       "</div>"
      ],
      "text/plain": [
       "        passenger_count  pickup_longitude  pickup_latitude  dropoff_longitude  \\\n",
       "247177                1        -73.992981        40.737129         -73.981178   \n",
       "41189                 1        -73.962509        40.773117         -73.979301   \n",
       "441690                1        -73.999649        40.718616         -73.982681   \n",
       "246922                2        -73.972954        40.756306         -73.949081   \n",
       "202073                2        -74.003334        40.743763         -74.004105   \n",
       "\n",
       "        dropoff_latitude  trip_duration  check_trip_duration  day_of_week  \\\n",
       "247177         40.781891       0.420556               1514.0            6   \n",
       "41189          40.755665       0.370000               1332.0            0   \n",
       "441690         40.774021       0.511111               1840.0            5   \n",
       "246922         40.775032       0.285278               1027.0            4   \n",
       "202073         40.751137       0.081944                295.0            5   \n",
       "\n",
       "       pickup_time_of_day dropoff_time_of_day  \n",
       "247177            Evening             Evening  \n",
       "41189             Morning           Afternoon  \n",
       "441690          Afternoon           Afternoon  \n",
       "246922            Evening             Evening  \n",
       "202073            Evening             Evening  "
      ]
     },
     "execution_count": 199,
     "metadata": {},
     "output_type": "execute_result"
    }
   ],
   "source": [
    "#Dividing the data into 4 parts\n",
    "div = int(data.shape[0]/4)\n",
    "\n",
    "#  Creating the test and train data by putting 3 parts to train set and 1 part to test set\n",
    "train = data.loc[:3*div+1,:]\n",
    "test = data.loc[3*div+1:]\n",
    "\n",
    "train.head()"
   ]
  },
  {
   "cell_type": "code",
   "execution_count": 200,
   "id": "41a27aac",
   "metadata": {},
   "outputs": [
    {
     "data": {
      "text/html": [
       "<div>\n",
       "<style scoped>\n",
       "    .dataframe tbody tr th:only-of-type {\n",
       "        vertical-align: middle;\n",
       "    }\n",
       "\n",
       "    .dataframe tbody tr th {\n",
       "        vertical-align: top;\n",
       "    }\n",
       "\n",
       "    .dataframe thead th {\n",
       "        text-align: right;\n",
       "    }\n",
       "</style>\n",
       "<table border=\"1\" class=\"dataframe\">\n",
       "  <thead>\n",
       "    <tr style=\"text-align: right;\">\n",
       "      <th></th>\n",
       "      <th>passenger_count</th>\n",
       "      <th>pickup_longitude</th>\n",
       "      <th>pickup_latitude</th>\n",
       "      <th>dropoff_longitude</th>\n",
       "      <th>dropoff_latitude</th>\n",
       "      <th>trip_duration</th>\n",
       "      <th>check_trip_duration</th>\n",
       "      <th>day_of_week</th>\n",
       "      <th>pickup_time_of_day</th>\n",
       "      <th>dropoff_time_of_day</th>\n",
       "    </tr>\n",
       "  </thead>\n",
       "  <tbody>\n",
       "    <tr>\n",
       "      <th>546991</th>\n",
       "      <td>1</td>\n",
       "      <td>-73.991364</td>\n",
       "      <td>40.732590</td>\n",
       "      <td>-74.000526</td>\n",
       "      <td>40.742283</td>\n",
       "      <td>0.096111</td>\n",
       "      <td>346.0</td>\n",
       "      <td>2</td>\n",
       "      <td>Morning</td>\n",
       "      <td>Morning</td>\n",
       "    </tr>\n",
       "    <tr>\n",
       "      <th>115009</th>\n",
       "      <td>1</td>\n",
       "      <td>-73.966866</td>\n",
       "      <td>40.761665</td>\n",
       "      <td>-74.014481</td>\n",
       "      <td>40.708088</td>\n",
       "      <td>0.278611</td>\n",
       "      <td>1003.0</td>\n",
       "      <td>0</td>\n",
       "      <td>Evening</td>\n",
       "      <td>Evening</td>\n",
       "    </tr>\n",
       "    <tr>\n",
       "      <th>127693</th>\n",
       "      <td>1</td>\n",
       "      <td>-73.991577</td>\n",
       "      <td>40.770470</td>\n",
       "      <td>-74.000137</td>\n",
       "      <td>40.730358</td>\n",
       "      <td>0.211389</td>\n",
       "      <td>761.0</td>\n",
       "      <td>6</td>\n",
       "      <td>Evening</td>\n",
       "      <td>Evening</td>\n",
       "    </tr>\n",
       "    <tr>\n",
       "      <th>204591</th>\n",
       "      <td>2</td>\n",
       "      <td>-73.874580</td>\n",
       "      <td>40.774097</td>\n",
       "      <td>-73.960419</td>\n",
       "      <td>40.762299</td>\n",
       "      <td>0.364722</td>\n",
       "      <td>1313.0</td>\n",
       "      <td>0</td>\n",
       "      <td>Evening</td>\n",
       "      <td>Evening</td>\n",
       "    </tr>\n",
       "    <tr>\n",
       "      <th>94205</th>\n",
       "      <td>1</td>\n",
       "      <td>-73.994789</td>\n",
       "      <td>40.750259</td>\n",
       "      <td>-73.999840</td>\n",
       "      <td>40.727032</td>\n",
       "      <td>0.224722</td>\n",
       "      <td>809.0</td>\n",
       "      <td>3</td>\n",
       "      <td>Late night</td>\n",
       "      <td>Late night</td>\n",
       "    </tr>\n",
       "  </tbody>\n",
       "</table>\n",
       "</div>"
      ],
      "text/plain": [
       "        passenger_count  pickup_longitude  pickup_latitude  dropoff_longitude  \\\n",
       "546991                1        -73.991364        40.732590         -74.000526   \n",
       "115009                1        -73.966866        40.761665         -74.014481   \n",
       "127693                1        -73.991577        40.770470         -74.000137   \n",
       "204591                2        -73.874580        40.774097         -73.960419   \n",
       "94205                 1        -73.994789        40.750259         -73.999840   \n",
       "\n",
       "        dropoff_latitude  trip_duration  check_trip_duration  day_of_week  \\\n",
       "546991         40.742283       0.096111                346.0            2   \n",
       "115009         40.708088       0.278611               1003.0            0   \n",
       "127693         40.730358       0.211389                761.0            6   \n",
       "204591         40.762299       0.364722               1313.0            0   \n",
       "94205          40.727032       0.224722                809.0            3   \n",
       "\n",
       "       pickup_time_of_day dropoff_time_of_day  \n",
       "546991            Morning             Morning  \n",
       "115009            Evening             Evening  \n",
       "127693            Evening             Evening  \n",
       "204591            Evening             Evening  \n",
       "94205          Late night          Late night  "
      ]
     },
     "execution_count": 200,
     "metadata": {},
     "output_type": "execute_result"
    }
   ],
   "source": [
    "test.head()"
   ]
  },
  {
   "cell_type": "markdown",
   "id": "e563bf7e",
   "metadata": {},
   "source": [
    "#### since our target variable is trip duratation which is continuous variable we use mean , in first we just find mean of target variable the keep on adding variable to make our model better and robust."
   ]
  },
  {
   "cell_type": "markdown",
   "id": "e64456f6",
   "metadata": {},
   "source": [
    "### Simple Mean (trip_duration)"
   ]
  },
  {
   "cell_type": "code",
   "execution_count": 201,
   "id": "cfc293aa",
   "metadata": {},
   "outputs": [
    {
     "data": {
      "text/plain": [
       "546991    0.26507\n",
       "115009    0.26507\n",
       "127693    0.26507\n",
       "204591    0.26507\n",
       "94205     0.26507\n",
       "           ...   \n",
       "604610    0.26507\n",
       "112278    0.26507\n",
       "725627    0.26507\n",
       "371399    0.26507\n",
       "5948      0.26507\n",
       "Name: simple_mean, Length: 426065, dtype: float64"
      ]
     },
     "execution_count": 201,
     "metadata": {},
     "output_type": "execute_result"
    }
   ],
   "source": [
    "# Creating and storing simple mean in a new column in the test set as \"simple_mean\"\n",
    "test['simple_mean'] = train['trip_duration'].mean()\n",
    "test['simple_mean']"
   ]
  },
  {
   "cell_type": "code",
   "execution_count": 203,
   "id": "f3e1d5a9",
   "metadata": {},
   "outputs": [
    {
     "data": {
      "text/plain": [
       "0.17207002339174687"
      ]
     },
     "execution_count": 203,
     "metadata": {},
     "output_type": "execute_result"
    }
   ],
   "source": [
    "#calculating mean absolute error\n",
    "from sklearn.metrics import mean_absolute_error as MAE\n",
    "\n",
    "simple_mean_error = MAE(test['trip_duration'] , test['simple_mean'])\n",
    "simple_mean_error"
   ]
  },
  {
   "cell_type": "raw",
   "id": "da6bd5b7",
   "metadata": {},
   "source": [
    "#calculating mean absolute error\n",
    "from sklearn.metrics import mean_squared_error as MSE\n",
    "\n",
    "simple_mean_error_MSE = np.sqrt(MSE(test['trip_duration'] , test['simple_mean']))\n",
    "simple_mean_error_MSE"
   ]
  },
  {
   "cell_type": "markdown",
   "id": "4d085e4c",
   "metadata": {},
   "source": [
    "### Mean trip_duration with respect to dropoff_time_of_day"
   ]
  },
  {
   "cell_type": "code",
   "execution_count": 89,
   "id": "51349bf5",
   "metadata": {},
   "outputs": [
    {
     "data": {
      "text/html": [
       "<div>\n",
       "<style scoped>\n",
       "    .dataframe tbody tr th:only-of-type {\n",
       "        vertical-align: middle;\n",
       "    }\n",
       "\n",
       "    .dataframe tbody tr th {\n",
       "        vertical-align: top;\n",
       "    }\n",
       "\n",
       "    .dataframe thead th {\n",
       "        text-align: right;\n",
       "    }\n",
       "</style>\n",
       "<table border=\"1\" class=\"dataframe\">\n",
       "  <thead>\n",
       "    <tr style=\"text-align: right;\">\n",
       "      <th></th>\n",
       "      <th>trip_duration</th>\n",
       "    </tr>\n",
       "    <tr>\n",
       "      <th>dropoff_time_of_day</th>\n",
       "      <th></th>\n",
       "    </tr>\n",
       "  </thead>\n",
       "  <tbody>\n",
       "    <tr>\n",
       "      <th>Afternoon</th>\n",
       "      <td>0.284258</td>\n",
       "    </tr>\n",
       "    <tr>\n",
       "      <th>Evening</th>\n",
       "      <td>0.269666</td>\n",
       "    </tr>\n",
       "    <tr>\n",
       "      <th>Late night</th>\n",
       "      <td>0.256343</td>\n",
       "    </tr>\n",
       "    <tr>\n",
       "      <th>Morning</th>\n",
       "      <td>0.247905</td>\n",
       "    </tr>\n",
       "  </tbody>\n",
       "</table>\n",
       "</div>"
      ],
      "text/plain": [
       "                     trip_duration\n",
       "dropoff_time_of_day               \n",
       "Afternoon                 0.284258\n",
       "Evening                   0.269666\n",
       "Late night                0.256343\n",
       "Morning                   0.247905"
      ]
     },
     "execution_count": 89,
     "metadata": {},
     "output_type": "execute_result"
    }
   ],
   "source": [
    "#trip_duration mean with respect to the mean of dropoff time of the day\n",
    "dropoff =pd.pivot_table(train, values='trip_duration', index = ['dropoff_time_of_day'], aggfunc=np.mean)\n",
    "dropoff"
   ]
  },
  {
   "cell_type": "code",
   "execution_count": 90,
   "id": "a34ada85",
   "metadata": {},
   "outputs": [],
   "source": [
    "# initializing new column to zero\n",
    "test['dropoff_mean'] = 0\n",
    "\n",
    "# For every unique entry in dropoff longitude\n",
    "for i in train['dropoff_time_of_day'].unique():\n",
    "  # Assign the mean value corresponding to unique entry\n",
    "  test['dropoff_mean'][test['dropoff_time_of_day'] == str(i)] = train['trip_duration'][train['dropoff_time_of_day'] == str(i)].mean()"
   ]
  },
  {
   "cell_type": "code",
   "execution_count": 86,
   "id": "96e2ee8b",
   "metadata": {},
   "outputs": [
    {
     "data": {
      "text/plain": [
       "0.17263892934259387"
      ]
     },
     "execution_count": 86,
     "metadata": {},
     "output_type": "execute_result"
    }
   ],
   "source": [
    "#calculating mean absolute error\n",
    "dropoff_error = MAE(test['trip_duration'] , test['dropoff_mean'] )\n",
    "dropoff_error"
   ]
  },
  {
   "cell_type": "code",
   "execution_count": 93,
   "id": "d420bc4f",
   "metadata": {},
   "outputs": [
    {
     "data": {
      "text/plain": [
       "0.8903865469170373"
      ]
     },
     "execution_count": 93,
     "metadata": {},
     "output_type": "execute_result"
    }
   ],
   "source": [
    "#calculating mean absolute error\n",
    "dropoff_error = np.sqrt(MSE(test['trip_duration'] , test['dropoff_mean'] ))\n",
    "dropoff_error"
   ]
  },
  {
   "cell_type": "markdown",
   "id": "ab01207e",
   "metadata": {},
   "source": [
    "### Mean trip_duration with respect to pickup_time_of_day"
   ]
  },
  {
   "cell_type": "code",
   "execution_count": 95,
   "id": "3188434a",
   "metadata": {},
   "outputs": [
    {
     "data": {
      "text/html": [
       "<div>\n",
       "<style scoped>\n",
       "    .dataframe tbody tr th:only-of-type {\n",
       "        vertical-align: middle;\n",
       "    }\n",
       "\n",
       "    .dataframe tbody tr th {\n",
       "        vertical-align: top;\n",
       "    }\n",
       "\n",
       "    .dataframe thead th {\n",
       "        text-align: right;\n",
       "    }\n",
       "</style>\n",
       "<table border=\"1\" class=\"dataframe\">\n",
       "  <thead>\n",
       "    <tr style=\"text-align: right;\">\n",
       "      <th></th>\n",
       "      <th>trip_duration</th>\n",
       "    </tr>\n",
       "    <tr>\n",
       "      <th>pickup_time_of_day</th>\n",
       "      <th></th>\n",
       "    </tr>\n",
       "  </thead>\n",
       "  <tbody>\n",
       "    <tr>\n",
       "      <th>Afternoon</th>\n",
       "      <td>0.291531</td>\n",
       "    </tr>\n",
       "    <tr>\n",
       "      <th>Evening</th>\n",
       "      <td>0.264078</td>\n",
       "    </tr>\n",
       "    <tr>\n",
       "      <th>Late night</th>\n",
       "      <td>0.255589</td>\n",
       "    </tr>\n",
       "    <tr>\n",
       "      <th>Morning</th>\n",
       "      <td>0.250610</td>\n",
       "    </tr>\n",
       "  </tbody>\n",
       "</table>\n",
       "</div>"
      ],
      "text/plain": [
       "                    trip_duration\n",
       "pickup_time_of_day               \n",
       "Afternoon                0.291531\n",
       "Evening                  0.264078\n",
       "Late night               0.255589\n",
       "Morning                  0.250610"
      ]
     },
     "execution_count": 95,
     "metadata": {},
     "output_type": "execute_result"
    }
   ],
   "source": [
    "#trip_duration mean with respect to the mean of pickup time of the day\n",
    "pickup = pd.pivot_table(train, values='trip_duration', index = ['pickup_time_of_day'], aggfunc=np.mean)\n",
    "pickup"
   ]
  },
  {
   "cell_type": "code",
   "execution_count": 96,
   "id": "23d35495",
   "metadata": {},
   "outputs": [],
   "source": [
    "# initializing new column to zero\n",
    "test['pickup_mean'] = 0\n",
    "\n",
    "# For every unique entry in pickup longitude\n",
    "for i in train['pickup_time_of_day'].unique():\n",
    "  # Assign the mean value corresponding to unique entry\n",
    "  test['pickup_mean'][test['pickup_time_of_day'] == str(i)] = train['trip_duration'][train['pickup_time_of_day'] == str(i)].mean()"
   ]
  },
  {
   "cell_type": "code",
   "execution_count": 98,
   "id": "021643d3",
   "metadata": {},
   "outputs": [
    {
     "data": {
      "text/plain": [
       "0.17262796487353868"
      ]
     },
     "execution_count": 98,
     "metadata": {},
     "output_type": "execute_result"
    }
   ],
   "source": [
    "#calculating mean absolute error\n",
    "pickup_error = MAE(test['trip_duration'] , test['pickup_mean'] )\n",
    "pickup_error"
   ]
  },
  {
   "cell_type": "markdown",
   "id": "39cbd747",
   "metadata": {},
   "source": [
    "### Mean trip_duration with respect to passenger_count"
   ]
  },
  {
   "cell_type": "code",
   "execution_count": 118,
   "id": "362d9ac4",
   "metadata": {},
   "outputs": [
    {
     "data": {
      "text/html": [
       "<div>\n",
       "<style scoped>\n",
       "    .dataframe tbody tr th:only-of-type {\n",
       "        vertical-align: middle;\n",
       "    }\n",
       "\n",
       "    .dataframe tbody tr th {\n",
       "        vertical-align: top;\n",
       "    }\n",
       "\n",
       "    .dataframe thead th {\n",
       "        text-align: right;\n",
       "    }\n",
       "</style>\n",
       "<table border=\"1\" class=\"dataframe\">\n",
       "  <thead>\n",
       "    <tr style=\"text-align: right;\">\n",
       "      <th></th>\n",
       "      <th>trip_duration</th>\n",
       "    </tr>\n",
       "    <tr>\n",
       "      <th>passenger_count</th>\n",
       "      <th></th>\n",
       "    </tr>\n",
       "  </thead>\n",
       "  <tbody>\n",
       "    <tr>\n",
       "      <th>0</th>\n",
       "      <td>0.092981</td>\n",
       "    </tr>\n",
       "    <tr>\n",
       "      <th>1</th>\n",
       "      <td>0.255343</td>\n",
       "    </tr>\n",
       "    <tr>\n",
       "      <th>2</th>\n",
       "      <td>0.277822</td>\n",
       "    </tr>\n",
       "    <tr>\n",
       "      <th>3</th>\n",
       "      <td>0.287332</td>\n",
       "    </tr>\n",
       "    <tr>\n",
       "      <th>4</th>\n",
       "      <td>0.285759</td>\n",
       "    </tr>\n",
       "    <tr>\n",
       "      <th>5</th>\n",
       "      <td>0.299641</td>\n",
       "    </tr>\n",
       "    <tr>\n",
       "      <th>6</th>\n",
       "      <td>0.300193</td>\n",
       "    </tr>\n",
       "  </tbody>\n",
       "</table>\n",
       "</div>"
      ],
      "text/plain": [
       "                 trip_duration\n",
       "passenger_count               \n",
       "0                     0.092981\n",
       "1                     0.255343\n",
       "2                     0.277822\n",
       "3                     0.287332\n",
       "4                     0.285759\n",
       "5                     0.299641\n",
       "6                     0.300193"
      ]
     },
     "execution_count": 118,
     "metadata": {},
     "output_type": "execute_result"
    }
   ],
   "source": [
    "##trip_duration_hour mean with respect to the mean of passenger_count\n",
    "pass_count = pd.pivot_table(train, values='trip_duration', index = [\"passenger_count\"], aggfunc=np.mean)\n",
    "pass_count"
   ]
  },
  {
   "cell_type": "code",
   "execution_count": 120,
   "id": "3c7adeb8",
   "metadata": {},
   "outputs": [
    {
     "data": {
      "text/plain": [
       "0.2652592807074405"
      ]
     },
     "execution_count": 120,
     "metadata": {},
     "output_type": "execute_result"
    }
   ],
   "source": [
    "# initializing new column to zero\n",
    "test['pass_count'] = 0\n",
    "\n",
    "# For every unique entry in passenger count\n",
    "for i in train['passenger_count'].unique():\n",
    "  # Assign the mean value corresponding to unique entry\n",
    "  test['pass_count'][test['passenger_count'] == str(i)] = train['trip_duration'][train['passenger_count'] == str(i)].mean()\n",
    "\n",
    "pass_count_error = MAE(test['trip_duration'] , test['pass_count'] )\n",
    "pass_count_error"
   ]
  },
  {
   "cell_type": "markdown",
   "id": "9bbbf404",
   "metadata": {},
   "source": [
    "### Mean trip_duration with respect store_and_fwd_flag"
   ]
  },
  {
   "cell_type": "code",
   "execution_count": 128,
   "id": "316b0a55",
   "metadata": {},
   "outputs": [
    {
     "data": {
      "text/html": [
       "<div>\n",
       "<style scoped>\n",
       "    .dataframe tbody tr th:only-of-type {\n",
       "        vertical-align: middle;\n",
       "    }\n",
       "\n",
       "    .dataframe tbody tr th {\n",
       "        vertical-align: top;\n",
       "    }\n",
       "\n",
       "    .dataframe thead th {\n",
       "        text-align: right;\n",
       "    }\n",
       "</style>\n",
       "<table border=\"1\" class=\"dataframe\">\n",
       "  <thead>\n",
       "    <tr style=\"text-align: right;\">\n",
       "      <th></th>\n",
       "      <th>trip_duration</th>\n",
       "    </tr>\n",
       "    <tr>\n",
       "      <th>store_and_fwd_flag</th>\n",
       "      <th></th>\n",
       "    </tr>\n",
       "  </thead>\n",
       "  <tbody>\n",
       "    <tr>\n",
       "      <th>0</th>\n",
       "      <td>0.264109</td>\n",
       "    </tr>\n",
       "    <tr>\n",
       "      <th>1</th>\n",
       "      <td>0.304058</td>\n",
       "    </tr>\n",
       "  </tbody>\n",
       "</table>\n",
       "</div>"
      ],
      "text/plain": [
       "                    trip_duration\n",
       "store_and_fwd_flag               \n",
       "0                        0.264109\n",
       "1                        0.304058"
      ]
     },
     "execution_count": 128,
     "metadata": {},
     "output_type": "execute_result"
    }
   ],
   "source": [
    "store_and_fwd = pd.pivot_table(train, values='trip_duration', index = [\"store_and_fwd_flag\"], aggfunc=np.mean)\n",
    "store_and_fwd "
   ]
  },
  {
   "cell_type": "code",
   "execution_count": 130,
   "id": "face3749",
   "metadata": {},
   "outputs": [
    {
     "data": {
      "text/plain": [
       "0.26515595259657526"
      ]
     },
     "execution_count": 130,
     "metadata": {},
     "output_type": "execute_result"
    }
   ],
   "source": [
    "# initializing new column to zero\n",
    "test['store_and_fwd'] = 0\n",
    "\n",
    "# For every unique entry in pickup latitude\n",
    "for i in train['store_and_fwd_flag'].unique():\n",
    "  # Assign the mean value corresponding to unique entry\n",
    "  test['store_and_fwd'][test['store_and_fwd_flag'] == str(i)] = train['trip_duration'][train['store_and_fwd_flag'] == str(i)].mean() \n",
    " \n",
    "str_and_fwd_error = MAE(test['store_and_fwd'] , test['trip_duration'] )\n",
    "str_and_fwd_error"
   ]
  },
  {
   "cell_type": "markdown",
   "id": "c3acfaee",
   "metadata": {},
   "source": [
    "### Mean trip_duration with respect to passenger_count, store_and_fwd_flag"
   ]
  },
  {
   "cell_type": "code",
   "execution_count": 113,
   "id": "b898ce33",
   "metadata": {},
   "outputs": [
    {
     "data": {
      "text/html": [
       "<div>\n",
       "<style scoped>\n",
       "    .dataframe tbody tr th:only-of-type {\n",
       "        vertical-align: middle;\n",
       "    }\n",
       "\n",
       "    .dataframe tbody tr th {\n",
       "        vertical-align: top;\n",
       "    }\n",
       "\n",
       "    .dataframe thead th {\n",
       "        text-align: right;\n",
       "    }\n",
       "</style>\n",
       "<table border=\"1\" class=\"dataframe\">\n",
       "  <thead>\n",
       "    <tr style=\"text-align: right;\">\n",
       "      <th></th>\n",
       "      <th></th>\n",
       "      <th>trip_duration</th>\n",
       "    </tr>\n",
       "    <tr>\n",
       "      <th>passenger_count</th>\n",
       "      <th>store_and_fwd_flag</th>\n",
       "      <th></th>\n",
       "    </tr>\n",
       "  </thead>\n",
       "  <tbody>\n",
       "    <tr>\n",
       "      <th rowspan=\"2\" valign=\"top\">0</th>\n",
       "      <th>0</th>\n",
       "      <td>0.098899</td>\n",
       "    </tr>\n",
       "    <tr>\n",
       "      <th>1</th>\n",
       "      <td>0.010139</td>\n",
       "    </tr>\n",
       "    <tr>\n",
       "      <th rowspan=\"2\" valign=\"top\">1</th>\n",
       "      <th>0</th>\n",
       "      <td>0.255153</td>\n",
       "    </tr>\n",
       "    <tr>\n",
       "      <th>1</th>\n",
       "      <td>0.286368</td>\n",
       "    </tr>\n",
       "    <tr>\n",
       "      <th rowspan=\"2\" valign=\"top\">2</th>\n",
       "      <th>0</th>\n",
       "      <td>0.277306</td>\n",
       "    </tr>\n",
       "    <tr>\n",
       "      <th>1</th>\n",
       "      <td>0.364515</td>\n",
       "    </tr>\n",
       "    <tr>\n",
       "      <th rowspan=\"2\" valign=\"top\">3</th>\n",
       "      <th>0</th>\n",
       "      <td>0.287040</td>\n",
       "    </tr>\n",
       "    <tr>\n",
       "      <th>1</th>\n",
       "      <td>0.346985</td>\n",
       "    </tr>\n",
       "    <tr>\n",
       "      <th rowspan=\"2\" valign=\"top\">4</th>\n",
       "      <th>0</th>\n",
       "      <td>0.284720</td>\n",
       "    </tr>\n",
       "    <tr>\n",
       "      <th>1</th>\n",
       "      <td>0.421980</td>\n",
       "    </tr>\n",
       "    <tr>\n",
       "      <th rowspan=\"2\" valign=\"top\">5</th>\n",
       "      <th>0</th>\n",
       "      <td>0.299639</td>\n",
       "    </tr>\n",
       "    <tr>\n",
       "      <th>1</th>\n",
       "      <td>0.357778</td>\n",
       "    </tr>\n",
       "    <tr>\n",
       "      <th>6</th>\n",
       "      <th>0</th>\n",
       "      <td>0.300193</td>\n",
       "    </tr>\n",
       "  </tbody>\n",
       "</table>\n",
       "</div>"
      ],
      "text/plain": [
       "                                    trip_duration\n",
       "passenger_count store_and_fwd_flag               \n",
       "0               0                        0.098899\n",
       "                1                        0.010139\n",
       "1               0                        0.255153\n",
       "                1                        0.286368\n",
       "2               0                        0.277306\n",
       "                1                        0.364515\n",
       "3               0                        0.287040\n",
       "                1                        0.346985\n",
       "4               0                        0.284720\n",
       "                1                        0.421980\n",
       "5               0                        0.299639\n",
       "                1                        0.357778\n",
       "6               0                        0.300193"
      ]
     },
     "execution_count": 113,
     "metadata": {},
     "output_type": "execute_result"
    }
   ],
   "source": [
    "##trip_duration mean with respect to the mean of passenger_count\n",
    "pass_store = pd.pivot_table(train, values='trip_duration', index = [\"passenger_count\", \"store_and_fwd_flag\"], aggfunc=np.mean)\n",
    "pass_store"
   ]
  },
  {
   "cell_type": "code",
   "execution_count": 114,
   "id": "a006482f",
   "metadata": {},
   "outputs": [],
   "source": [
    "# initializing new column to zero\n",
    "test['pass_store'] = 0\n",
    " # Assigning variables to strings ( to shorten code length)\n",
    "s1 = 'passenger_count'\n",
    "s2 = 'store_and_fwd_flag'\n",
    "\n",
    "# For every Unique Value in s1\n",
    "for i in test[s1].unique():\n",
    "  # For every Unique Value in s2\n",
    "  for j in test[s2].unique():\n",
    "         # Calculate and Assign mean to new column, corresponding to both unique values of s1 and s2 simultaneously\n",
    "        test['pass_store'][(test[s1] == i) & (test[s2] == str(j)) ] = train['trip_duration'][(train[s1] == i) & (train[s2] == str(j))].mean()\n",
    "\n"
   ]
  },
  {
   "cell_type": "code",
   "execution_count": 115,
   "id": "12c97272",
   "metadata": {},
   "outputs": [],
   "source": [
    "test.dropna(subset=['pass_store'], inplace=True)"
   ]
  },
  {
   "cell_type": "code",
   "execution_count": 116,
   "id": "ecbfb3c6",
   "metadata": {},
   "outputs": [
    {
     "data": {
      "text/plain": [
       "0.2652592807074405"
      ]
     },
     "execution_count": 116,
     "metadata": {},
     "output_type": "execute_result"
    }
   ],
   "source": [
    "pass_count_error = MAE(test['trip_duration'] , test['pass_store'] )\n",
    "pass_count_error"
   ]
  },
  {
   "cell_type": "markdown",
   "id": "7bcc5962",
   "metadata": {},
   "source": [
    "### Mean trip_duration with respect to passenger_count, pickup_time_of_day and dropoff_time_of_day"
   ]
  },
  {
   "cell_type": "code",
   "execution_count": 122,
   "id": "bca99898",
   "metadata": {},
   "outputs": [
    {
     "data": {
      "text/html": [
       "<div>\n",
       "<style scoped>\n",
       "    .dataframe tbody tr th:only-of-type {\n",
       "        vertical-align: middle;\n",
       "    }\n",
       "\n",
       "    .dataframe tbody tr th {\n",
       "        vertical-align: top;\n",
       "    }\n",
       "\n",
       "    .dataframe thead th {\n",
       "        text-align: right;\n",
       "    }\n",
       "</style>\n",
       "<table border=\"1\" class=\"dataframe\">\n",
       "  <thead>\n",
       "    <tr style=\"text-align: right;\">\n",
       "      <th></th>\n",
       "      <th></th>\n",
       "      <th></th>\n",
       "      <th>trip_duration</th>\n",
       "    </tr>\n",
       "    <tr>\n",
       "      <th>passenger_count</th>\n",
       "      <th>pickup_time_of_day</th>\n",
       "      <th>dropoff_time_of_day</th>\n",
       "      <th></th>\n",
       "    </tr>\n",
       "  </thead>\n",
       "  <tbody>\n",
       "    <tr>\n",
       "      <th rowspan=\"5\" valign=\"top\">0</th>\n",
       "      <th>Afternoon</th>\n",
       "      <th>Afternoon</th>\n",
       "      <td>0.305417</td>\n",
       "    </tr>\n",
       "    <tr>\n",
       "      <th rowspan=\"2\" valign=\"top\">Evening</th>\n",
       "      <th>Evening</th>\n",
       "      <td>0.054352</td>\n",
       "    </tr>\n",
       "    <tr>\n",
       "      <th>Late night</th>\n",
       "      <td>0.106944</td>\n",
       "    </tr>\n",
       "    <tr>\n",
       "      <th>Late night</th>\n",
       "      <th>Late night</th>\n",
       "      <td>0.023856</td>\n",
       "    </tr>\n",
       "    <tr>\n",
       "      <th>Morning</th>\n",
       "      <th>Afternoon</th>\n",
       "      <td>0.432222</td>\n",
       "    </tr>\n",
       "    <tr>\n",
       "      <th>...</th>\n",
       "      <th>...</th>\n",
       "      <th>...</th>\n",
       "      <td>...</td>\n",
       "    </tr>\n",
       "    <tr>\n",
       "      <th rowspan=\"5\" valign=\"top\">6</th>\n",
       "      <th rowspan=\"2\" valign=\"top\">Late night</th>\n",
       "      <th>Late night</th>\n",
       "      <td>0.282054</td>\n",
       "    </tr>\n",
       "    <tr>\n",
       "      <th>Morning</th>\n",
       "      <td>0.313738</td>\n",
       "    </tr>\n",
       "    <tr>\n",
       "      <th rowspan=\"3\" valign=\"top\">Morning</th>\n",
       "      <th>Afternoon</th>\n",
       "      <td>0.376369</td>\n",
       "    </tr>\n",
       "    <tr>\n",
       "      <th>Late night</th>\n",
       "      <td>16.731944</td>\n",
       "    </tr>\n",
       "    <tr>\n",
       "      <th>Morning</th>\n",
       "      <td>0.267228</td>\n",
       "    </tr>\n",
       "  </tbody>\n",
       "</table>\n",
       "<p>75 rows × 1 columns</p>\n",
       "</div>"
      ],
      "text/plain": [
       "                                                        trip_duration\n",
       "passenger_count pickup_time_of_day dropoff_time_of_day               \n",
       "0               Afternoon          Afternoon                 0.305417\n",
       "                Evening            Evening                   0.054352\n",
       "                                   Late night                0.106944\n",
       "                Late night         Late night                0.023856\n",
       "                Morning            Afternoon                 0.432222\n",
       "...                                                               ...\n",
       "6               Late night         Late night                0.282054\n",
       "                                   Morning                   0.313738\n",
       "                Morning            Afternoon                 0.376369\n",
       "                                   Late night               16.731944\n",
       "                                   Morning                   0.267228\n",
       "\n",
       "[75 rows x 1 columns]"
      ]
     },
     "execution_count": 122,
     "metadata": {},
     "output_type": "execute_result"
    }
   ],
   "source": [
    "combo = pd.pivot_table(train, values = 'trip_duration', index = ['passenger_count','pickup_time_of_day','dropoff_time_of_day'], aggfunc = np.mean)\n",
    "combo"
   ]
  },
  {
   "cell_type": "code",
   "execution_count": 123,
   "id": "bbf4d64d",
   "metadata": {},
   "outputs": [],
   "source": [
    "# Initiating new empty column\n",
    "test['Super_mean'] = 0\n",
    "\n",
    "# Assigning variables to strings ( to shorten code length)\n",
    "s1 = 'passenger_count'\n",
    "s2 = 'pickup_time_of_day'\n",
    "s3 = 'dropoff_time_of_day'\n",
    "\n",
    "# For every Unique Value in s1\n",
    "for i in test[s1].unique():\n",
    "  # For every Unique Value in s2\n",
    "  for j in test[s2].unique():\n",
    "    # For every Unique Value in s3\n",
    "      for k in test[s3].unique():\n",
    "    # Calculate and Assign mean to new column, corresponding to both unique values of s1 and s2 simultaneously\n",
    "        test['Super_mean'][(test[s1] == i) & (test[s2] == str(j)) & (test[s3] == str(k))] = train['trip_duration'][(train[s1] == i) & (train[s2] == str(j)) & (train[s3] == str(k))].mean()"
   ]
  },
  {
   "cell_type": "code",
   "execution_count": 124,
   "id": "d81d6bd0",
   "metadata": {},
   "outputs": [],
   "source": [
    "test.dropna(subset=['Super_mean'], inplace=True)"
   ]
  },
  {
   "cell_type": "code",
   "execution_count": 126,
   "id": "97c357ce",
   "metadata": {},
   "outputs": [
    {
     "data": {
      "text/plain": [
       "0.16813712281281906"
      ]
     },
     "execution_count": 126,
     "metadata": {},
     "output_type": "execute_result"
    }
   ],
   "source": [
    "#calculating mean absolute error\n",
    "super_mean_error = MAE(test['trip_duration'] , test['Super_mean'] )\n",
    "super_mean_error"
   ]
  },
  {
   "cell_type": "code",
   "execution_count": 132,
   "id": "7902ead0",
   "metadata": {},
   "outputs": [
    {
     "data": {
      "text/plain": [
       "0.8618719927438696"
      ]
     },
     "execution_count": 132,
     "metadata": {},
     "output_type": "execute_result"
    }
   ],
   "source": [
    "#calculating mean absolute error\n",
    "super_mean_error = np.sqrt(MSE(test['trip_duration'] , test['Super_mean'] ))\n",
    "super_mean_error"
   ]
  },
  {
   "cell_type": "markdown",
   "id": "ab7c0b85",
   "metadata": {},
   "source": [
    "## Conclusion"
   ]
  },
  {
   "cell_type": "markdown",
   "id": "564aef07",
   "metadata": {},
   "source": [
    "\n",
    "1. The error of simple mean of trip duration  is 0.172776515860276, 0.8899768861825853 which is also almost equal to MAE of dropoff time and pickup time of the day is 0.17263892934259387, 0.17262796487353868 respectively.\n",
    "\n",
    "2. The Mean  absolute error of  trip duration with respect to str_fwd_error and passanger count error is almost i.e. 0.26515595259657526, \n",
    "\n",
    "3. The Mean  absolute error of trip duration with respect to passenger_count, store_and_fwd_flag is 0.2652592807074405.\n",
    "\n",
    "4.The Mean absolute error of trip duration  with respect to pickup_time_error , dropoff_time_error and pass_count error is 0.16813712281281906\n",
    "\n"
   ]
  },
  {
   "cell_type": "markdown",
   "id": "30d44579",
   "metadata": {},
   "source": [
    "## KNN model"
   ]
  },
  {
   "cell_type": "code",
   "execution_count": 133,
   "id": "8ff022a7",
   "metadata": {},
   "outputs": [
    {
     "data": {
      "text/html": [
       "<div>\n",
       "<style scoped>\n",
       "    .dataframe tbody tr th:only-of-type {\n",
       "        vertical-align: middle;\n",
       "    }\n",
       "\n",
       "    .dataframe tbody tr th {\n",
       "        vertical-align: top;\n",
       "    }\n",
       "\n",
       "    .dataframe thead th {\n",
       "        text-align: right;\n",
       "    }\n",
       "</style>\n",
       "<table border=\"1\" class=\"dataframe\">\n",
       "  <thead>\n",
       "    <tr style=\"text-align: right;\">\n",
       "      <th></th>\n",
       "      <th>id</th>\n",
       "      <th>vendor_id</th>\n",
       "      <th>pickup_datetime</th>\n",
       "      <th>dropoff_datetime</th>\n",
       "      <th>passenger_count</th>\n",
       "      <th>pickup_longitude</th>\n",
       "      <th>pickup_latitude</th>\n",
       "      <th>dropoff_longitude</th>\n",
       "      <th>dropoff_latitude</th>\n",
       "      <th>store_and_fwd_flag</th>\n",
       "      <th>trip_duration</th>\n",
       "      <th>check_trip_duration</th>\n",
       "      <th>day_of_week</th>\n",
       "      <th>pickup_date</th>\n",
       "      <th>dropoff_date</th>\n",
       "      <th>pickup_time_of_day</th>\n",
       "      <th>dropoff_time_of_day</th>\n",
       "    </tr>\n",
       "  </thead>\n",
       "  <tbody>\n",
       "    <tr>\n",
       "      <th>469114</th>\n",
       "      <td>id2380741</td>\n",
       "      <td>2</td>\n",
       "      <td>2016-05-21 10:40:14</td>\n",
       "      <td>2016-05-21 10:51:11</td>\n",
       "      <td>1</td>\n",
       "      <td>-73.981796</td>\n",
       "      <td>40.762035</td>\n",
       "      <td>-73.972267</td>\n",
       "      <td>40.781265</td>\n",
       "      <td>0</td>\n",
       "      <td>0.182500</td>\n",
       "      <td>657.0</td>\n",
       "      <td>5</td>\n",
       "      <td>2016-05-21</td>\n",
       "      <td>2016-05-21</td>\n",
       "      <td>Morning</td>\n",
       "      <td>Morning</td>\n",
       "    </tr>\n",
       "    <tr>\n",
       "      <th>694852</th>\n",
       "      <td>id3946961</td>\n",
       "      <td>2</td>\n",
       "      <td>2016-01-08 18:49:27</td>\n",
       "      <td>2016-01-08 18:52:42</td>\n",
       "      <td>5</td>\n",
       "      <td>-73.980965</td>\n",
       "      <td>40.747677</td>\n",
       "      <td>-73.982704</td>\n",
       "      <td>40.741161</td>\n",
       "      <td>0</td>\n",
       "      <td>0.054167</td>\n",
       "      <td>195.0</td>\n",
       "      <td>4</td>\n",
       "      <td>2016-01-08</td>\n",
       "      <td>2016-01-08</td>\n",
       "      <td>Evening</td>\n",
       "      <td>Evening</td>\n",
       "    </tr>\n",
       "    <tr>\n",
       "      <th>696324</th>\n",
       "      <td>id0833913</td>\n",
       "      <td>1</td>\n",
       "      <td>2016-05-22 00:54:10</td>\n",
       "      <td>2016-05-22 01:08:10</td>\n",
       "      <td>1</td>\n",
       "      <td>-73.951065</td>\n",
       "      <td>40.782722</td>\n",
       "      <td>-73.867691</td>\n",
       "      <td>40.833664</td>\n",
       "      <td>0</td>\n",
       "      <td>0.233333</td>\n",
       "      <td>840.0</td>\n",
       "      <td>6</td>\n",
       "      <td>2016-05-22</td>\n",
       "      <td>2016-05-22</td>\n",
       "      <td>Late night</td>\n",
       "      <td>Late night</td>\n",
       "    </tr>\n",
       "    <tr>\n",
       "      <th>356496</th>\n",
       "      <td>id1336849</td>\n",
       "      <td>1</td>\n",
       "      <td>2016-06-11 10:32:12</td>\n",
       "      <td>2016-06-11 10:38:50</td>\n",
       "      <td>1</td>\n",
       "      <td>-73.987625</td>\n",
       "      <td>40.762791</td>\n",
       "      <td>-73.973518</td>\n",
       "      <td>40.762909</td>\n",
       "      <td>0</td>\n",
       "      <td>0.110556</td>\n",
       "      <td>398.0</td>\n",
       "      <td>5</td>\n",
       "      <td>2016-06-11</td>\n",
       "      <td>2016-06-11</td>\n",
       "      <td>Morning</td>\n",
       "      <td>Morning</td>\n",
       "    </tr>\n",
       "    <tr>\n",
       "      <th>645318</th>\n",
       "      <td>id1610858</td>\n",
       "      <td>1</td>\n",
       "      <td>2016-04-03 10:45:51</td>\n",
       "      <td>2016-04-03 10:57:13</td>\n",
       "      <td>3</td>\n",
       "      <td>-73.964333</td>\n",
       "      <td>40.792503</td>\n",
       "      <td>-73.988609</td>\n",
       "      <td>40.758369</td>\n",
       "      <td>0</td>\n",
       "      <td>0.189444</td>\n",
       "      <td>682.0</td>\n",
       "      <td>6</td>\n",
       "      <td>2016-04-03</td>\n",
       "      <td>2016-04-03</td>\n",
       "      <td>Morning</td>\n",
       "      <td>Morning</td>\n",
       "    </tr>\n",
       "  </tbody>\n",
       "</table>\n",
       "</div>"
      ],
      "text/plain": [
       "               id  vendor_id     pickup_datetime    dropoff_datetime  \\\n",
       "469114  id2380741          2 2016-05-21 10:40:14 2016-05-21 10:51:11   \n",
       "694852  id3946961          2 2016-01-08 18:49:27 2016-01-08 18:52:42   \n",
       "696324  id0833913          1 2016-05-22 00:54:10 2016-05-22 01:08:10   \n",
       "356496  id1336849          1 2016-06-11 10:32:12 2016-06-11 10:38:50   \n",
       "645318  id1610858          1 2016-04-03 10:45:51 2016-04-03 10:57:13   \n",
       "\n",
       "        passenger_count  pickup_longitude  pickup_latitude  dropoff_longitude  \\\n",
       "469114                1        -73.981796        40.762035         -73.972267   \n",
       "694852                5        -73.980965        40.747677         -73.982704   \n",
       "696324                1        -73.951065        40.782722         -73.867691   \n",
       "356496                1        -73.987625        40.762791         -73.973518   \n",
       "645318                3        -73.964333        40.792503         -73.988609   \n",
       "\n",
       "        dropoff_latitude  store_and_fwd_flag  trip_duration  \\\n",
       "469114         40.781265                   0       0.182500   \n",
       "694852         40.741161                   0       0.054167   \n",
       "696324         40.833664                   0       0.233333   \n",
       "356496         40.762909                   0       0.110556   \n",
       "645318         40.758369                   0       0.189444   \n",
       "\n",
       "        check_trip_duration  day_of_week pickup_date dropoff_date  \\\n",
       "469114                657.0            5  2016-05-21   2016-05-21   \n",
       "694852                195.0            4  2016-01-08   2016-01-08   \n",
       "696324                840.0            6  2016-05-22   2016-05-22   \n",
       "356496                398.0            5  2016-06-11   2016-06-11   \n",
       "645318                682.0            6  2016-04-03   2016-04-03   \n",
       "\n",
       "       pickup_time_of_day dropoff_time_of_day  \n",
       "469114            Morning             Morning  \n",
       "694852            Evening             Evening  \n",
       "696324         Late night          Late night  \n",
       "356496            Morning             Morning  \n",
       "645318            Morning             Morning  "
      ]
     },
     "execution_count": 133,
     "metadata": {},
     "output_type": "execute_result"
    }
   ],
   "source": [
    "# top 5 rows of the dataset\n",
    "data.head()"
   ]
  },
  {
   "cell_type": "code",
   "execution_count": 135,
   "id": "065c11f5",
   "metadata": {},
   "outputs": [
    {
     "data": {
      "text/html": [
       "<div>\n",
       "<style scoped>\n",
       "    .dataframe tbody tr th:only-of-type {\n",
       "        vertical-align: middle;\n",
       "    }\n",
       "\n",
       "    .dataframe tbody tr th {\n",
       "        vertical-align: top;\n",
       "    }\n",
       "\n",
       "    .dataframe thead th {\n",
       "        text-align: right;\n",
       "    }\n",
       "</style>\n",
       "<table border=\"1\" class=\"dataframe\">\n",
       "  <thead>\n",
       "    <tr style=\"text-align: right;\">\n",
       "      <th></th>\n",
       "      <th>vendor_id</th>\n",
       "      <th>passenger_count</th>\n",
       "      <th>pickup_longitude</th>\n",
       "      <th>pickup_latitude</th>\n",
       "      <th>dropoff_longitude</th>\n",
       "      <th>dropoff_latitude</th>\n",
       "      <th>store_and_fwd_flag</th>\n",
       "      <th>trip_duration</th>\n",
       "      <th>check_trip_duration</th>\n",
       "      <th>day_of_week</th>\n",
       "    </tr>\n",
       "  </thead>\n",
       "  <tbody>\n",
       "    <tr>\n",
       "      <th>count</th>\n",
       "      <td>729322.000000</td>\n",
       "      <td>729322.000000</td>\n",
       "      <td>729322.000000</td>\n",
       "      <td>729322.000000</td>\n",
       "      <td>729322.000000</td>\n",
       "      <td>729322.000000</td>\n",
       "      <td>729322.000000</td>\n",
       "      <td>729322.000000</td>\n",
       "      <td>7.293220e+05</td>\n",
       "      <td>729322.000000</td>\n",
       "    </tr>\n",
       "    <tr>\n",
       "      <th>mean</th>\n",
       "      <td>1.535403</td>\n",
       "      <td>1.662055</td>\n",
       "      <td>-73.973513</td>\n",
       "      <td>40.750919</td>\n",
       "      <td>-73.973422</td>\n",
       "      <td>40.751775</td>\n",
       "      <td>0.005539</td>\n",
       "      <td>0.264508</td>\n",
       "      <td>9.522291e+02</td>\n",
       "      <td>3.049081</td>\n",
       "    </tr>\n",
       "    <tr>\n",
       "      <th>std</th>\n",
       "      <td>0.498745</td>\n",
       "      <td>1.312446</td>\n",
       "      <td>0.069754</td>\n",
       "      <td>0.033594</td>\n",
       "      <td>0.069588</td>\n",
       "      <td>0.036037</td>\n",
       "      <td>0.074221</td>\n",
       "      <td>1.073507</td>\n",
       "      <td>3.864626e+03</td>\n",
       "      <td>1.954470</td>\n",
       "    </tr>\n",
       "    <tr>\n",
       "      <th>min</th>\n",
       "      <td>1.000000</td>\n",
       "      <td>0.000000</td>\n",
       "      <td>-121.933342</td>\n",
       "      <td>34.712234</td>\n",
       "      <td>-121.933304</td>\n",
       "      <td>32.181141</td>\n",
       "      <td>0.000000</td>\n",
       "      <td>0.000278</td>\n",
       "      <td>1.000000e+00</td>\n",
       "      <td>0.000000</td>\n",
       "    </tr>\n",
       "    <tr>\n",
       "      <th>25%</th>\n",
       "      <td>1.000000</td>\n",
       "      <td>1.000000</td>\n",
       "      <td>-73.991859</td>\n",
       "      <td>40.737335</td>\n",
       "      <td>-73.991318</td>\n",
       "      <td>40.735931</td>\n",
       "      <td>0.000000</td>\n",
       "      <td>0.110278</td>\n",
       "      <td>3.970000e+02</td>\n",
       "      <td>1.000000</td>\n",
       "    </tr>\n",
       "    <tr>\n",
       "      <th>50%</th>\n",
       "      <td>2.000000</td>\n",
       "      <td>1.000000</td>\n",
       "      <td>-73.981758</td>\n",
       "      <td>40.754070</td>\n",
       "      <td>-73.979759</td>\n",
       "      <td>40.754509</td>\n",
       "      <td>0.000000</td>\n",
       "      <td>0.184167</td>\n",
       "      <td>6.630000e+02</td>\n",
       "      <td>3.000000</td>\n",
       "    </tr>\n",
       "    <tr>\n",
       "      <th>75%</th>\n",
       "      <td>2.000000</td>\n",
       "      <td>2.000000</td>\n",
       "      <td>-73.967361</td>\n",
       "      <td>40.768314</td>\n",
       "      <td>-73.963036</td>\n",
       "      <td>40.769741</td>\n",
       "      <td>0.000000</td>\n",
       "      <td>0.298611</td>\n",
       "      <td>1.075000e+03</td>\n",
       "      <td>5.000000</td>\n",
       "    </tr>\n",
       "    <tr>\n",
       "      <th>max</th>\n",
       "      <td>2.000000</td>\n",
       "      <td>9.000000</td>\n",
       "      <td>-65.897385</td>\n",
       "      <td>51.881084</td>\n",
       "      <td>-65.897385</td>\n",
       "      <td>43.921028</td>\n",
       "      <td>1.000000</td>\n",
       "      <td>538.815556</td>\n",
       "      <td>1.939736e+06</td>\n",
       "      <td>6.000000</td>\n",
       "    </tr>\n",
       "  </tbody>\n",
       "</table>\n",
       "</div>"
      ],
      "text/plain": [
       "           vendor_id  passenger_count  pickup_longitude  pickup_latitude  \\\n",
       "count  729322.000000    729322.000000     729322.000000    729322.000000   \n",
       "mean        1.535403         1.662055        -73.973513        40.750919   \n",
       "std         0.498745         1.312446          0.069754         0.033594   \n",
       "min         1.000000         0.000000       -121.933342        34.712234   \n",
       "25%         1.000000         1.000000        -73.991859        40.737335   \n",
       "50%         2.000000         1.000000        -73.981758        40.754070   \n",
       "75%         2.000000         2.000000        -73.967361        40.768314   \n",
       "max         2.000000         9.000000        -65.897385        51.881084   \n",
       "\n",
       "       dropoff_longitude  dropoff_latitude  store_and_fwd_flag  trip_duration  \\\n",
       "count      729322.000000     729322.000000       729322.000000  729322.000000   \n",
       "mean          -73.973422         40.751775            0.005539       0.264508   \n",
       "std             0.069588          0.036037            0.074221       1.073507   \n",
       "min          -121.933304         32.181141            0.000000       0.000278   \n",
       "25%           -73.991318         40.735931            0.000000       0.110278   \n",
       "50%           -73.979759         40.754509            0.000000       0.184167   \n",
       "75%           -73.963036         40.769741            0.000000       0.298611   \n",
       "max           -65.897385         43.921028            1.000000     538.815556   \n",
       "\n",
       "       check_trip_duration    day_of_week  \n",
       "count         7.293220e+05  729322.000000  \n",
       "mean          9.522291e+02       3.049081  \n",
       "std           3.864626e+03       1.954470  \n",
       "min           1.000000e+00       0.000000  \n",
       "25%           3.970000e+02       1.000000  \n",
       "50%           6.630000e+02       3.000000  \n",
       "75%           1.075000e+03       5.000000  \n",
       "max           1.939736e+06       6.000000  "
      ]
     },
     "execution_count": 135,
     "metadata": {},
     "output_type": "execute_result"
    }
   ],
   "source": [
    "data.describe()"
   ]
  },
  {
   "cell_type": "code",
   "execution_count": 136,
   "id": "c1387e3f",
   "metadata": {},
   "outputs": [
    {
     "data": {
      "text/plain": [
       "Index(['id', 'vendor_id', 'pickup_datetime', 'dropoff_datetime',\n",
       "       'passenger_count', 'pickup_longitude', 'pickup_latitude',\n",
       "       'dropoff_longitude', 'dropoff_latitude', 'store_and_fwd_flag',\n",
       "       'trip_duration', 'check_trip_duration', 'day_of_week', 'pickup_date',\n",
       "       'dropoff_date', 'pickup_time_of_day', 'dropoff_time_of_day'],\n",
       "      dtype='object')"
      ]
     },
     "execution_count": 136,
     "metadata": {},
     "output_type": "execute_result"
    }
   ],
   "source": [
    "data.columns"
   ]
  },
  {
   "cell_type": "code",
   "execution_count": 138,
   "id": "35253091",
   "metadata": {},
   "outputs": [],
   "source": [
    "data.drop(columns=['id','vendor_id','pickup_datetime','dropoff_datetime','store_and_fwd_flag','dropoff_date','pickup_date'],inplace=True)"
   ]
  },
  {
   "cell_type": "code",
   "execution_count": 139,
   "id": "94350608",
   "metadata": {},
   "outputs": [
    {
     "data": {
      "text/plain": [
       "passenger_count          int64\n",
       "pickup_longitude       float64\n",
       "pickup_latitude        float64\n",
       "dropoff_longitude      float64\n",
       "dropoff_latitude       float64\n",
       "trip_duration          float64\n",
       "check_trip_duration    float64\n",
       "day_of_week              int64\n",
       "pickup_time_of_day      object\n",
       "dropoff_time_of_day     object\n",
       "dtype: object"
      ]
     },
     "execution_count": 139,
     "metadata": {},
     "output_type": "execute_result"
    }
   ],
   "source": [
    "data.dtypes"
   ]
  },
  {
   "cell_type": "code",
   "execution_count": 140,
   "id": "57de8d7a",
   "metadata": {},
   "outputs": [
    {
     "data": {
      "text/html": [
       "<div>\n",
       "<style scoped>\n",
       "    .dataframe tbody tr th:only-of-type {\n",
       "        vertical-align: middle;\n",
       "    }\n",
       "\n",
       "    .dataframe tbody tr th {\n",
       "        vertical-align: top;\n",
       "    }\n",
       "\n",
       "    .dataframe thead th {\n",
       "        text-align: right;\n",
       "    }\n",
       "</style>\n",
       "<table border=\"1\" class=\"dataframe\">\n",
       "  <thead>\n",
       "    <tr style=\"text-align: right;\">\n",
       "      <th></th>\n",
       "      <th>passenger_count</th>\n",
       "      <th>pickup_longitude</th>\n",
       "      <th>pickup_latitude</th>\n",
       "      <th>dropoff_longitude</th>\n",
       "      <th>dropoff_latitude</th>\n",
       "      <th>trip_duration</th>\n",
       "      <th>check_trip_duration</th>\n",
       "      <th>day_of_week</th>\n",
       "      <th>pickup_time_of_day_Afternoon</th>\n",
       "      <th>pickup_time_of_day_Evening</th>\n",
       "      <th>pickup_time_of_day_Late night</th>\n",
       "      <th>pickup_time_of_day_Morning</th>\n",
       "      <th>dropoff_time_of_day_Afternoon</th>\n",
       "      <th>dropoff_time_of_day_Evening</th>\n",
       "      <th>dropoff_time_of_day_Late night</th>\n",
       "      <th>dropoff_time_of_day_Morning</th>\n",
       "    </tr>\n",
       "  </thead>\n",
       "  <tbody>\n",
       "    <tr>\n",
       "      <th>694852</th>\n",
       "      <td>5</td>\n",
       "      <td>-73.980965</td>\n",
       "      <td>40.747677</td>\n",
       "      <td>-73.982704</td>\n",
       "      <td>40.741161</td>\n",
       "      <td>0.054167</td>\n",
       "      <td>195.0</td>\n",
       "      <td>4</td>\n",
       "      <td>0</td>\n",
       "      <td>1</td>\n",
       "      <td>0</td>\n",
       "      <td>0</td>\n",
       "      <td>0</td>\n",
       "      <td>1</td>\n",
       "      <td>0</td>\n",
       "      <td>0</td>\n",
       "    </tr>\n",
       "    <tr>\n",
       "      <th>696324</th>\n",
       "      <td>1</td>\n",
       "      <td>-73.951065</td>\n",
       "      <td>40.782722</td>\n",
       "      <td>-73.867691</td>\n",
       "      <td>40.833664</td>\n",
       "      <td>0.233333</td>\n",
       "      <td>840.0</td>\n",
       "      <td>6</td>\n",
       "      <td>0</td>\n",
       "      <td>0</td>\n",
       "      <td>1</td>\n",
       "      <td>0</td>\n",
       "      <td>0</td>\n",
       "      <td>0</td>\n",
       "      <td>1</td>\n",
       "      <td>0</td>\n",
       "    </tr>\n",
       "    <tr>\n",
       "      <th>356496</th>\n",
       "      <td>1</td>\n",
       "      <td>-73.987625</td>\n",
       "      <td>40.762791</td>\n",
       "      <td>-73.973518</td>\n",
       "      <td>40.762909</td>\n",
       "      <td>0.110556</td>\n",
       "      <td>398.0</td>\n",
       "      <td>5</td>\n",
       "      <td>0</td>\n",
       "      <td>0</td>\n",
       "      <td>0</td>\n",
       "      <td>1</td>\n",
       "      <td>0</td>\n",
       "      <td>0</td>\n",
       "      <td>0</td>\n",
       "      <td>1</td>\n",
       "    </tr>\n",
       "    <tr>\n",
       "      <th>645318</th>\n",
       "      <td>3</td>\n",
       "      <td>-73.964333</td>\n",
       "      <td>40.792503</td>\n",
       "      <td>-73.988609</td>\n",
       "      <td>40.758369</td>\n",
       "      <td>0.189444</td>\n",
       "      <td>682.0</td>\n",
       "      <td>6</td>\n",
       "      <td>0</td>\n",
       "      <td>0</td>\n",
       "      <td>0</td>\n",
       "      <td>1</td>\n",
       "      <td>0</td>\n",
       "      <td>0</td>\n",
       "      <td>0</td>\n",
       "      <td>1</td>\n",
       "    </tr>\n",
       "    <tr>\n",
       "      <th>498463</th>\n",
       "      <td>1</td>\n",
       "      <td>-73.956047</td>\n",
       "      <td>40.781849</td>\n",
       "      <td>-73.977707</td>\n",
       "      <td>40.758499</td>\n",
       "      <td>0.210556</td>\n",
       "      <td>758.0</td>\n",
       "      <td>5</td>\n",
       "      <td>1</td>\n",
       "      <td>0</td>\n",
       "      <td>0</td>\n",
       "      <td>0</td>\n",
       "      <td>1</td>\n",
       "      <td>0</td>\n",
       "      <td>0</td>\n",
       "      <td>0</td>\n",
       "    </tr>\n",
       "    <tr>\n",
       "      <th>...</th>\n",
       "      <td>...</td>\n",
       "      <td>...</td>\n",
       "      <td>...</td>\n",
       "      <td>...</td>\n",
       "      <td>...</td>\n",
       "      <td>...</td>\n",
       "      <td>...</td>\n",
       "      <td>...</td>\n",
       "      <td>...</td>\n",
       "      <td>...</td>\n",
       "      <td>...</td>\n",
       "      <td>...</td>\n",
       "      <td>...</td>\n",
       "      <td>...</td>\n",
       "      <td>...</td>\n",
       "      <td>...</td>\n",
       "    </tr>\n",
       "    <tr>\n",
       "      <th>60847</th>\n",
       "      <td>1</td>\n",
       "      <td>-73.870895</td>\n",
       "      <td>40.773697</td>\n",
       "      <td>-73.982536</td>\n",
       "      <td>40.742413</td>\n",
       "      <td>0.276389</td>\n",
       "      <td>995.0</td>\n",
       "      <td>2</td>\n",
       "      <td>0</td>\n",
       "      <td>1</td>\n",
       "      <td>0</td>\n",
       "      <td>0</td>\n",
       "      <td>0</td>\n",
       "      <td>1</td>\n",
       "      <td>0</td>\n",
       "      <td>0</td>\n",
       "    </tr>\n",
       "    <tr>\n",
       "      <th>219009</th>\n",
       "      <td>2</td>\n",
       "      <td>-73.959290</td>\n",
       "      <td>40.801121</td>\n",
       "      <td>-73.984360</td>\n",
       "      <td>40.769802</td>\n",
       "      <td>0.198889</td>\n",
       "      <td>716.0</td>\n",
       "      <td>0</td>\n",
       "      <td>0</td>\n",
       "      <td>0</td>\n",
       "      <td>0</td>\n",
       "      <td>1</td>\n",
       "      <td>0</td>\n",
       "      <td>0</td>\n",
       "      <td>0</td>\n",
       "      <td>1</td>\n",
       "    </tr>\n",
       "    <tr>\n",
       "      <th>476363</th>\n",
       "      <td>5</td>\n",
       "      <td>-73.961182</td>\n",
       "      <td>40.777611</td>\n",
       "      <td>-73.972412</td>\n",
       "      <td>40.786308</td>\n",
       "      <td>0.173889</td>\n",
       "      <td>626.0</td>\n",
       "      <td>1</td>\n",
       "      <td>1</td>\n",
       "      <td>0</td>\n",
       "      <td>0</td>\n",
       "      <td>0</td>\n",
       "      <td>1</td>\n",
       "      <td>0</td>\n",
       "      <td>0</td>\n",
       "      <td>0</td>\n",
       "    </tr>\n",
       "    <tr>\n",
       "      <th>554000</th>\n",
       "      <td>1</td>\n",
       "      <td>-73.954231</td>\n",
       "      <td>40.765156</td>\n",
       "      <td>-73.975334</td>\n",
       "      <td>40.752388</td>\n",
       "      <td>0.366667</td>\n",
       "      <td>1320.0</td>\n",
       "      <td>4</td>\n",
       "      <td>1</td>\n",
       "      <td>0</td>\n",
       "      <td>0</td>\n",
       "      <td>0</td>\n",
       "      <td>1</td>\n",
       "      <td>0</td>\n",
       "      <td>0</td>\n",
       "      <td>0</td>\n",
       "    </tr>\n",
       "    <tr>\n",
       "      <th>674441</th>\n",
       "      <td>1</td>\n",
       "      <td>-73.979889</td>\n",
       "      <td>40.753960</td>\n",
       "      <td>-73.988953</td>\n",
       "      <td>40.742077</td>\n",
       "      <td>0.084167</td>\n",
       "      <td>303.0</td>\n",
       "      <td>3</td>\n",
       "      <td>0</td>\n",
       "      <td>0</td>\n",
       "      <td>0</td>\n",
       "      <td>1</td>\n",
       "      <td>0</td>\n",
       "      <td>0</td>\n",
       "      <td>0</td>\n",
       "      <td>1</td>\n",
       "    </tr>\n",
       "  </tbody>\n",
       "</table>\n",
       "<p>150000 rows × 16 columns</p>\n",
       "</div>"
      ],
      "text/plain": [
       "        passenger_count  pickup_longitude  pickup_latitude  dropoff_longitude  \\\n",
       "694852                5        -73.980965        40.747677         -73.982704   \n",
       "696324                1        -73.951065        40.782722         -73.867691   \n",
       "356496                1        -73.987625        40.762791         -73.973518   \n",
       "645318                3        -73.964333        40.792503         -73.988609   \n",
       "498463                1        -73.956047        40.781849         -73.977707   \n",
       "...                 ...               ...              ...                ...   \n",
       "60847                 1        -73.870895        40.773697         -73.982536   \n",
       "219009                2        -73.959290        40.801121         -73.984360   \n",
       "476363                5        -73.961182        40.777611         -73.972412   \n",
       "554000                1        -73.954231        40.765156         -73.975334   \n",
       "674441                1        -73.979889        40.753960         -73.988953   \n",
       "\n",
       "        dropoff_latitude  trip_duration  check_trip_duration  day_of_week  \\\n",
       "694852         40.741161       0.054167                195.0            4   \n",
       "696324         40.833664       0.233333                840.0            6   \n",
       "356496         40.762909       0.110556                398.0            5   \n",
       "645318         40.758369       0.189444                682.0            6   \n",
       "498463         40.758499       0.210556                758.0            5   \n",
       "...                  ...            ...                  ...          ...   \n",
       "60847          40.742413       0.276389                995.0            2   \n",
       "219009         40.769802       0.198889                716.0            0   \n",
       "476363         40.786308       0.173889                626.0            1   \n",
       "554000         40.752388       0.366667               1320.0            4   \n",
       "674441         40.742077       0.084167                303.0            3   \n",
       "\n",
       "        pickup_time_of_day_Afternoon  pickup_time_of_day_Evening  \\\n",
       "694852                             0                           1   \n",
       "696324                             0                           0   \n",
       "356496                             0                           0   \n",
       "645318                             0                           0   \n",
       "498463                             1                           0   \n",
       "...                              ...                         ...   \n",
       "60847                              0                           1   \n",
       "219009                             0                           0   \n",
       "476363                             1                           0   \n",
       "554000                             1                           0   \n",
       "674441                             0                           0   \n",
       "\n",
       "        pickup_time_of_day_Late night  pickup_time_of_day_Morning  \\\n",
       "694852                              0                           0   \n",
       "696324                              1                           0   \n",
       "356496                              0                           1   \n",
       "645318                              0                           1   \n",
       "498463                              0                           0   \n",
       "...                               ...                         ...   \n",
       "60847                               0                           0   \n",
       "219009                              0                           1   \n",
       "476363                              0                           0   \n",
       "554000                              0                           0   \n",
       "674441                              0                           1   \n",
       "\n",
       "        dropoff_time_of_day_Afternoon  dropoff_time_of_day_Evening  \\\n",
       "694852                              0                            1   \n",
       "696324                              0                            0   \n",
       "356496                              0                            0   \n",
       "645318                              0                            0   \n",
       "498463                              1                            0   \n",
       "...                               ...                          ...   \n",
       "60847                               0                            1   \n",
       "219009                              0                            0   \n",
       "476363                              1                            0   \n",
       "554000                              1                            0   \n",
       "674441                              0                            0   \n",
       "\n",
       "        dropoff_time_of_day_Late night  dropoff_time_of_day_Morning  \n",
       "694852                               0                            0  \n",
       "696324                               1                            0  \n",
       "356496                               0                            1  \n",
       "645318                               0                            1  \n",
       "498463                               0                            0  \n",
       "...                                ...                          ...  \n",
       "60847                                0                            0  \n",
       "219009                               0                            1  \n",
       "476363                               0                            0  \n",
       "554000                               0                            0  \n",
       "674441                               0                            1  \n",
       "\n",
       "[150000 rows x 16 columns]"
      ]
     },
     "execution_count": 140,
     "metadata": {},
     "output_type": "execute_result"
    }
   ],
   "source": [
    "df = data.iloc[1:150001,]\n",
    "cat_cols = ['pickup_time_of_day', 'dropoff_time_of_day']\n",
    "df = pd.concat([df, pd.get_dummies(df[cat_cols].astype('str'))], axis=1)\n",
    "df.drop(columns = ['pickup_time_of_day', 'dropoff_time_of_day'],inplace = True)\n",
    "df"
   ]
  },
  {
   "cell_type": "code",
   "execution_count": 141,
   "id": "b53daf7f",
   "metadata": {},
   "outputs": [
    {
     "data": {
      "text/plain": [
       "((150000, 15), (150000,))"
      ]
     },
     "execution_count": 141,
     "metadata": {},
     "output_type": "execute_result"
    }
   ],
   "source": [
    "#seperate features variables and target variables or independent and dependent variables\n",
    "x = df.drop(['trip_duration'], axis=1)\n",
    "y = df[\"trip_duration\"]\n",
    "x.shape,y.shape"
   ]
  },
  {
   "cell_type": "code",
   "execution_count": 142,
   "id": "ccb2903c",
   "metadata": {},
   "outputs": [],
   "source": [
    "# Scaling up the data to get all in one particular scale by using MinMax Scaler\n",
    "from sklearn.preprocessing import MinMaxScaler\n",
    "scaler = MinMaxScaler()\n",
    "x_scaled = scaler.fit_transform(x)"
   ]
  },
  {
   "cell_type": "code",
   "execution_count": 143,
   "id": "a658c009",
   "metadata": {},
   "outputs": [],
   "source": [
    "# Converting into dataframe\n",
    "x = pd.DataFrame(x_scaled)"
   ]
  },
  {
   "cell_type": "code",
   "execution_count": 144,
   "id": "03c097a9",
   "metadata": {},
   "outputs": [],
   "source": [
    "# Importing Train test split and applying random state\n",
    "from sklearn.model_selection import train_test_split\n",
    "train_x,test_x,train_y,test_y = train_test_split(x,y, random_state = 56)"
   ]
  },
  {
   "cell_type": "code",
   "execution_count": 145,
   "id": "8445528d",
   "metadata": {},
   "outputs": [],
   "source": [
    "#Implementing and importing KNN regressor and metric\n",
    "from sklearn.neighbors import KNeighborsRegressor as KNN\n",
    "from sklearn.metrics import mean_absolute_error as MAE"
   ]
  },
  {
   "cell_type": "code",
   "execution_count": 206,
   "id": "92cfef59",
   "metadata": {},
   "outputs": [
    {
     "name": "stdout",
     "output_type": "stream",
     "text": [
      "Test MAE     0.1005912162962963\n"
     ]
    }
   ],
   "source": [
    "# Creating instance of KNN\n",
    "reg = KNN(n_neighbors = 5)\n",
    "# Fitting the model\n",
    "reg.fit(train_x, train_y)\n",
    "# Predicting over the Train Set and calculating MSE\n",
    "test_predict = reg.predict(test_x)\n",
    "k = MAE(test_predict, test_y)\n",
    "print('Test MAE    ', k )"
   ]
  },
  {
   "cell_type": "markdown",
   "id": "586cc975",
   "metadata": {},
   "source": [
    "## Finding K value using Elbow classifier"
   ]
  },
  {
   "cell_type": "code",
   "execution_count": 149,
   "id": "b6d9a4be",
   "metadata": {},
   "outputs": [],
   "source": [
    "def Elbow(K):\n",
    "  #initiating empty list\n",
    "    test_MAE = []\n",
    "  \n",
    "  #training model for evey value of K\n",
    "    for i in K:\n",
    "        #Instance of KNN\n",
    "        reg = KNN(n_neighbors = i)\n",
    "        reg.fit(train_x, train_y)\n",
    "        #Appending MAE value to empty list claculated using the predictions\n",
    "        tmp = reg.predict(test_x)\n",
    "        tmp = MAE(tmp,test_y)\n",
    "        test_MAE.append(tmp)\n",
    "    \n",
    "    return test_MAE"
   ]
  },
  {
   "cell_type": "code",
   "execution_count": 164,
   "id": "479ee97b",
   "metadata": {},
   "outputs": [],
   "source": [
    "#Defining K range\n",
    "k = range(1,10)"
   ]
  },
  {
   "cell_type": "code",
   "execution_count": 165,
   "id": "d38773a1",
   "metadata": {},
   "outputs": [],
   "source": [
    "# calling above defined function\n",
    "test = Elbow(k)"
   ]
  },
  {
   "cell_type": "code",
   "execution_count": 166,
   "id": "0b3ae09e",
   "metadata": {},
   "outputs": [
    {
     "data": {
      "text/plain": [
       "Text(0.5, 1.0, 'Elbow Curve for test')"
      ]
     },
     "execution_count": 166,
     "metadata": {},
     "output_type": "execute_result"
    },
    {
     "data": {
      "image/png": "[encoded data removed]",
      "text/plain": [
       "<Figure size 640x480 with 1 Axes>"
      ]
     },
     "metadata": {},
     "output_type": "display_data"
    }
   ],
   "source": [
    "# plotting the Curves\n",
    "plt.plot(k, test)\n",
    "plt.xlabel('K Neighbors')\n",
    "plt.ylabel('Test Mean Absolute Error')\n",
    "plt.title('Elbow Curve for test')"
   ]
  },
  {
   "cell_type": "code",
   "execution_count": 207,
   "id": "fcf8ec13",
   "metadata": {},
   "outputs": [
    {
     "name": "stdout",
     "output_type": "stream",
     "text": [
      "Test MAE     0.09577997037037037\n"
     ]
    }
   ],
   "source": [
    "# Creating instance of KNN\n",
    "reg = KNN(n_neighbors = 2)\n",
    "\n",
    "# Fitting the model\n",
    "reg.fit(train_x, train_y)\n",
    "\n",
    "# Predicting over the Train Set and calculating F1\n",
    "test_predict = reg.predict(test_x)\n",
    "k = MAE(test_predict, test_y)\n",
    "print('Test MAE    ', k )"
   ]
  },
  {
   "cell_type": "markdown",
   "id": "5d56b329",
   "metadata": {},
   "source": [
    " For different values of k the Test MAE values are 1- 0.09710413333333333 2-0.09577997037037037 3- 0.09695288395061728"
   ]
  },
  {
   "cell_type": "code",
   "execution_count": 167,
   "id": "3433074d",
   "metadata": {},
   "outputs": [
    {
     "data": {
      "text/plain": [
       "23.577168212623857"
      ]
     },
     "execution_count": 167,
     "metadata": {},
     "output_type": "execute_result"
    }
   ],
   "source": [
    "knn_train_score = reg.score(train_x,train_y)\n",
    "knn_train_score*100"
   ]
  },
  {
   "cell_type": "code",
   "execution_count": 168,
   "id": "b3c83478",
   "metadata": {},
   "outputs": [
    {
     "data": {
      "text/plain": [
       "27.52035767562998"
      ]
     },
     "execution_count": 168,
     "metadata": {},
     "output_type": "execute_result"
    }
   ],
   "source": [
    "knn_test_score = reg.score(test_x,test_y)\n",
    "knn_test_score*100"
   ]
  },
  {
   "cell_type": "markdown",
   "id": "7d377232",
   "metadata": {},
   "source": [
    "# Conclusions\n",
    "\n",
    "1.The Test MAE is      when we took the value of k as 2. We used Elbow method in order to determine the value of k. On using Elbow method we found that at k = 2(0.029005723456790127) the test MAE is lesser than the MAE at K =5 (0.1005912162962963) \n",
    "\n",
    "2.The train score is 23.577168212623857\n",
    "\n",
    "3.The test score is 27.52035767562998"
   ]
  },
  {
   "cell_type": "markdown",
   "id": "c0618197",
   "metadata": {},
   "source": [
    "## Linear model"
   ]
  },
  {
   "cell_type": "code",
   "execution_count": 169,
   "id": "d677b2ec",
   "metadata": {},
   "outputs": [
    {
     "data": {
      "text/html": [
       "<div>\n",
       "<style scoped>\n",
       "    .dataframe tbody tr th:only-of-type {\n",
       "        vertical-align: middle;\n",
       "    }\n",
       "\n",
       "    .dataframe tbody tr th {\n",
       "        vertical-align: top;\n",
       "    }\n",
       "\n",
       "    .dataframe thead th {\n",
       "        text-align: right;\n",
       "    }\n",
       "</style>\n",
       "<table border=\"1\" class=\"dataframe\">\n",
       "  <thead>\n",
       "    <tr style=\"text-align: right;\">\n",
       "      <th></th>\n",
       "      <th>passenger_count</th>\n",
       "      <th>pickup_longitude</th>\n",
       "      <th>pickup_latitude</th>\n",
       "      <th>dropoff_longitude</th>\n",
       "      <th>dropoff_latitude</th>\n",
       "      <th>trip_duration</th>\n",
       "      <th>check_trip_duration</th>\n",
       "      <th>day_of_week</th>\n",
       "      <th>pickup_time_of_day</th>\n",
       "      <th>dropoff_time_of_day</th>\n",
       "    </tr>\n",
       "  </thead>\n",
       "  <tbody>\n",
       "    <tr>\n",
       "      <th>469114</th>\n",
       "      <td>1</td>\n",
       "      <td>-73.981796</td>\n",
       "      <td>40.762035</td>\n",
       "      <td>-73.972267</td>\n",
       "      <td>40.781265</td>\n",
       "      <td>0.182500</td>\n",
       "      <td>657.0</td>\n",
       "      <td>5</td>\n",
       "      <td>Morning</td>\n",
       "      <td>Morning</td>\n",
       "    </tr>\n",
       "    <tr>\n",
       "      <th>694852</th>\n",
       "      <td>5</td>\n",
       "      <td>-73.980965</td>\n",
       "      <td>40.747677</td>\n",
       "      <td>-73.982704</td>\n",
       "      <td>40.741161</td>\n",
       "      <td>0.054167</td>\n",
       "      <td>195.0</td>\n",
       "      <td>4</td>\n",
       "      <td>Evening</td>\n",
       "      <td>Evening</td>\n",
       "    </tr>\n",
       "    <tr>\n",
       "      <th>696324</th>\n",
       "      <td>1</td>\n",
       "      <td>-73.951065</td>\n",
       "      <td>40.782722</td>\n",
       "      <td>-73.867691</td>\n",
       "      <td>40.833664</td>\n",
       "      <td>0.233333</td>\n",
       "      <td>840.0</td>\n",
       "      <td>6</td>\n",
       "      <td>Late night</td>\n",
       "      <td>Late night</td>\n",
       "    </tr>\n",
       "    <tr>\n",
       "      <th>356496</th>\n",
       "      <td>1</td>\n",
       "      <td>-73.987625</td>\n",
       "      <td>40.762791</td>\n",
       "      <td>-73.973518</td>\n",
       "      <td>40.762909</td>\n",
       "      <td>0.110556</td>\n",
       "      <td>398.0</td>\n",
       "      <td>5</td>\n",
       "      <td>Morning</td>\n",
       "      <td>Morning</td>\n",
       "    </tr>\n",
       "    <tr>\n",
       "      <th>645318</th>\n",
       "      <td>3</td>\n",
       "      <td>-73.964333</td>\n",
       "      <td>40.792503</td>\n",
       "      <td>-73.988609</td>\n",
       "      <td>40.758369</td>\n",
       "      <td>0.189444</td>\n",
       "      <td>682.0</td>\n",
       "      <td>6</td>\n",
       "      <td>Morning</td>\n",
       "      <td>Morning</td>\n",
       "    </tr>\n",
       "  </tbody>\n",
       "</table>\n",
       "</div>"
      ],
      "text/plain": [
       "        passenger_count  pickup_longitude  pickup_latitude  dropoff_longitude  \\\n",
       "469114                1        -73.981796        40.762035         -73.972267   \n",
       "694852                5        -73.980965        40.747677         -73.982704   \n",
       "696324                1        -73.951065        40.782722         -73.867691   \n",
       "356496                1        -73.987625        40.762791         -73.973518   \n",
       "645318                3        -73.964333        40.792503         -73.988609   \n",
       "\n",
       "        dropoff_latitude  trip_duration  check_trip_duration  day_of_week  \\\n",
       "469114         40.781265       0.182500                657.0            5   \n",
       "694852         40.741161       0.054167                195.0            4   \n",
       "696324         40.833664       0.233333                840.0            6   \n",
       "356496         40.762909       0.110556                398.0            5   \n",
       "645318         40.758369       0.189444                682.0            6   \n",
       "\n",
       "       pickup_time_of_day dropoff_time_of_day  \n",
       "469114            Morning             Morning  \n",
       "694852            Evening             Evening  \n",
       "696324         Late night          Late night  \n",
       "356496            Morning             Morning  \n",
       "645318            Morning             Morning  "
      ]
     },
     "execution_count": 169,
     "metadata": {},
     "output_type": "execute_result"
    }
   ],
   "source": [
    "#Importing data\n",
    "data.head()"
   ]
  },
  {
   "cell_type": "code",
   "execution_count": 170,
   "id": "de6208ee",
   "metadata": {},
   "outputs": [
    {
     "data": {
      "text/html": [
       "<div>\n",
       "<style scoped>\n",
       "    .dataframe tbody tr th:only-of-type {\n",
       "        vertical-align: middle;\n",
       "    }\n",
       "\n",
       "    .dataframe tbody tr th {\n",
       "        vertical-align: top;\n",
       "    }\n",
       "\n",
       "    .dataframe thead th {\n",
       "        text-align: right;\n",
       "    }\n",
       "</style>\n",
       "<table border=\"1\" class=\"dataframe\">\n",
       "  <thead>\n",
       "    <tr style=\"text-align: right;\">\n",
       "      <th></th>\n",
       "      <th>passenger_count</th>\n",
       "      <th>pickup_longitude</th>\n",
       "      <th>pickup_latitude</th>\n",
       "      <th>dropoff_longitude</th>\n",
       "      <th>dropoff_latitude</th>\n",
       "      <th>trip_duration</th>\n",
       "      <th>check_trip_duration</th>\n",
       "      <th>day_of_week</th>\n",
       "      <th>pickup_time_of_day_Afternoon</th>\n",
       "      <th>pickup_time_of_day_Evening</th>\n",
       "      <th>pickup_time_of_day_Late night</th>\n",
       "      <th>pickup_time_of_day_Morning</th>\n",
       "      <th>dropoff_time_of_day_Afternoon</th>\n",
       "      <th>dropoff_time_of_day_Evening</th>\n",
       "      <th>dropoff_time_of_day_Late night</th>\n",
       "      <th>dropoff_time_of_day_Morning</th>\n",
       "    </tr>\n",
       "  </thead>\n",
       "  <tbody>\n",
       "    <tr>\n",
       "      <th>469114</th>\n",
       "      <td>1</td>\n",
       "      <td>-73.981796</td>\n",
       "      <td>40.762035</td>\n",
       "      <td>-73.972267</td>\n",
       "      <td>40.781265</td>\n",
       "      <td>0.182500</td>\n",
       "      <td>657.0</td>\n",
       "      <td>5</td>\n",
       "      <td>NaN</td>\n",
       "      <td>NaN</td>\n",
       "      <td>NaN</td>\n",
       "      <td>NaN</td>\n",
       "      <td>NaN</td>\n",
       "      <td>NaN</td>\n",
       "      <td>NaN</td>\n",
       "      <td>NaN</td>\n",
       "    </tr>\n",
       "    <tr>\n",
       "      <th>694852</th>\n",
       "      <td>5</td>\n",
       "      <td>-73.980965</td>\n",
       "      <td>40.747677</td>\n",
       "      <td>-73.982704</td>\n",
       "      <td>40.741161</td>\n",
       "      <td>0.054167</td>\n",
       "      <td>195.0</td>\n",
       "      <td>4</td>\n",
       "      <td>0.0</td>\n",
       "      <td>1.0</td>\n",
       "      <td>0.0</td>\n",
       "      <td>0.0</td>\n",
       "      <td>0.0</td>\n",
       "      <td>1.0</td>\n",
       "      <td>0.0</td>\n",
       "      <td>0.0</td>\n",
       "    </tr>\n",
       "    <tr>\n",
       "      <th>696324</th>\n",
       "      <td>1</td>\n",
       "      <td>-73.951065</td>\n",
       "      <td>40.782722</td>\n",
       "      <td>-73.867691</td>\n",
       "      <td>40.833664</td>\n",
       "      <td>0.233333</td>\n",
       "      <td>840.0</td>\n",
       "      <td>6</td>\n",
       "      <td>0.0</td>\n",
       "      <td>0.0</td>\n",
       "      <td>1.0</td>\n",
       "      <td>0.0</td>\n",
       "      <td>0.0</td>\n",
       "      <td>0.0</td>\n",
       "      <td>1.0</td>\n",
       "      <td>0.0</td>\n",
       "    </tr>\n",
       "    <tr>\n",
       "      <th>356496</th>\n",
       "      <td>1</td>\n",
       "      <td>-73.987625</td>\n",
       "      <td>40.762791</td>\n",
       "      <td>-73.973518</td>\n",
       "      <td>40.762909</td>\n",
       "      <td>0.110556</td>\n",
       "      <td>398.0</td>\n",
       "      <td>5</td>\n",
       "      <td>0.0</td>\n",
       "      <td>0.0</td>\n",
       "      <td>0.0</td>\n",
       "      <td>1.0</td>\n",
       "      <td>0.0</td>\n",
       "      <td>0.0</td>\n",
       "      <td>0.0</td>\n",
       "      <td>1.0</td>\n",
       "    </tr>\n",
       "    <tr>\n",
       "      <th>645318</th>\n",
       "      <td>3</td>\n",
       "      <td>-73.964333</td>\n",
       "      <td>40.792503</td>\n",
       "      <td>-73.988609</td>\n",
       "      <td>40.758369</td>\n",
       "      <td>0.189444</td>\n",
       "      <td>682.0</td>\n",
       "      <td>6</td>\n",
       "      <td>0.0</td>\n",
       "      <td>0.0</td>\n",
       "      <td>0.0</td>\n",
       "      <td>1.0</td>\n",
       "      <td>0.0</td>\n",
       "      <td>0.0</td>\n",
       "      <td>0.0</td>\n",
       "      <td>1.0</td>\n",
       "    </tr>\n",
       "    <tr>\n",
       "      <th>...</th>\n",
       "      <td>...</td>\n",
       "      <td>...</td>\n",
       "      <td>...</td>\n",
       "      <td>...</td>\n",
       "      <td>...</td>\n",
       "      <td>...</td>\n",
       "      <td>...</td>\n",
       "      <td>...</td>\n",
       "      <td>...</td>\n",
       "      <td>...</td>\n",
       "      <td>...</td>\n",
       "      <td>...</td>\n",
       "      <td>...</td>\n",
       "      <td>...</td>\n",
       "      <td>...</td>\n",
       "      <td>...</td>\n",
       "    </tr>\n",
       "    <tr>\n",
       "      <th>259178</th>\n",
       "      <td>1</td>\n",
       "      <td>-73.960854</td>\n",
       "      <td>40.811741</td>\n",
       "      <td>-73.960251</td>\n",
       "      <td>40.817940</td>\n",
       "      <td>0.139167</td>\n",
       "      <td>501.0</td>\n",
       "      <td>1</td>\n",
       "      <td>NaN</td>\n",
       "      <td>NaN</td>\n",
       "      <td>NaN</td>\n",
       "      <td>NaN</td>\n",
       "      <td>NaN</td>\n",
       "      <td>NaN</td>\n",
       "      <td>NaN</td>\n",
       "      <td>NaN</td>\n",
       "    </tr>\n",
       "    <tr>\n",
       "      <th>365838</th>\n",
       "      <td>1</td>\n",
       "      <td>-73.984215</td>\n",
       "      <td>40.728931</td>\n",
       "      <td>-73.985313</td>\n",
       "      <td>40.738132</td>\n",
       "      <td>0.082778</td>\n",
       "      <td>298.0</td>\n",
       "      <td>1</td>\n",
       "      <td>NaN</td>\n",
       "      <td>NaN</td>\n",
       "      <td>NaN</td>\n",
       "      <td>NaN</td>\n",
       "      <td>NaN</td>\n",
       "      <td>NaN</td>\n",
       "      <td>NaN</td>\n",
       "      <td>NaN</td>\n",
       "    </tr>\n",
       "    <tr>\n",
       "      <th>131932</th>\n",
       "      <td>1</td>\n",
       "      <td>-73.996338</td>\n",
       "      <td>40.723541</td>\n",
       "      <td>-73.994255</td>\n",
       "      <td>40.726402</td>\n",
       "      <td>0.036667</td>\n",
       "      <td>132.0</td>\n",
       "      <td>0</td>\n",
       "      <td>NaN</td>\n",
       "      <td>NaN</td>\n",
       "      <td>NaN</td>\n",
       "      <td>NaN</td>\n",
       "      <td>NaN</td>\n",
       "      <td>NaN</td>\n",
       "      <td>NaN</td>\n",
       "      <td>NaN</td>\n",
       "    </tr>\n",
       "    <tr>\n",
       "      <th>671155</th>\n",
       "      <td>1</td>\n",
       "      <td>-73.961449</td>\n",
       "      <td>40.765327</td>\n",
       "      <td>-73.980003</td>\n",
       "      <td>40.745914</td>\n",
       "      <td>0.238889</td>\n",
       "      <td>860.0</td>\n",
       "      <td>3</td>\n",
       "      <td>NaN</td>\n",
       "      <td>NaN</td>\n",
       "      <td>NaN</td>\n",
       "      <td>NaN</td>\n",
       "      <td>NaN</td>\n",
       "      <td>NaN</td>\n",
       "      <td>NaN</td>\n",
       "      <td>NaN</td>\n",
       "    </tr>\n",
       "    <tr>\n",
       "      <th>121958</th>\n",
       "      <td>5</td>\n",
       "      <td>-73.982208</td>\n",
       "      <td>40.763008</td>\n",
       "      <td>-74.004097</td>\n",
       "      <td>40.742710</td>\n",
       "      <td>0.208611</td>\n",
       "      <td>751.0</td>\n",
       "      <td>1</td>\n",
       "      <td>NaN</td>\n",
       "      <td>NaN</td>\n",
       "      <td>NaN</td>\n",
       "      <td>NaN</td>\n",
       "      <td>NaN</td>\n",
       "      <td>NaN</td>\n",
       "      <td>NaN</td>\n",
       "      <td>NaN</td>\n",
       "    </tr>\n",
       "  </tbody>\n",
       "</table>\n",
       "<p>729322 rows × 16 columns</p>\n",
       "</div>"
      ],
      "text/plain": [
       "        passenger_count  pickup_longitude  pickup_latitude  dropoff_longitude  \\\n",
       "469114                1        -73.981796        40.762035         -73.972267   \n",
       "694852                5        -73.980965        40.747677         -73.982704   \n",
       "696324                1        -73.951065        40.782722         -73.867691   \n",
       "356496                1        -73.987625        40.762791         -73.973518   \n",
       "645318                3        -73.964333        40.792503         -73.988609   \n",
       "...                 ...               ...              ...                ...   \n",
       "259178                1        -73.960854        40.811741         -73.960251   \n",
       "365838                1        -73.984215        40.728931         -73.985313   \n",
       "131932                1        -73.996338        40.723541         -73.994255   \n",
       "671155                1        -73.961449        40.765327         -73.980003   \n",
       "121958                5        -73.982208        40.763008         -74.004097   \n",
       "\n",
       "        dropoff_latitude  trip_duration  check_trip_duration  day_of_week  \\\n",
       "469114         40.781265       0.182500                657.0            5   \n",
       "694852         40.741161       0.054167                195.0            4   \n",
       "696324         40.833664       0.233333                840.0            6   \n",
       "356496         40.762909       0.110556                398.0            5   \n",
       "645318         40.758369       0.189444                682.0            6   \n",
       "...                  ...            ...                  ...          ...   \n",
       "259178         40.817940       0.139167                501.0            1   \n",
       "365838         40.738132       0.082778                298.0            1   \n",
       "131932         40.726402       0.036667                132.0            0   \n",
       "671155         40.745914       0.238889                860.0            3   \n",
       "121958         40.742710       0.208611                751.0            1   \n",
       "\n",
       "        pickup_time_of_day_Afternoon  pickup_time_of_day_Evening  \\\n",
       "469114                           NaN                         NaN   \n",
       "694852                           0.0                         1.0   \n",
       "696324                           0.0                         0.0   \n",
       "356496                           0.0                         0.0   \n",
       "645318                           0.0                         0.0   \n",
       "...                              ...                         ...   \n",
       "259178                           NaN                         NaN   \n",
       "365838                           NaN                         NaN   \n",
       "131932                           NaN                         NaN   \n",
       "671155                           NaN                         NaN   \n",
       "121958                           NaN                         NaN   \n",
       "\n",
       "        pickup_time_of_day_Late night  pickup_time_of_day_Morning  \\\n",
       "469114                            NaN                         NaN   \n",
       "694852                            0.0                         0.0   \n",
       "696324                            1.0                         0.0   \n",
       "356496                            0.0                         1.0   \n",
       "645318                            0.0                         1.0   \n",
       "...                               ...                         ...   \n",
       "259178                            NaN                         NaN   \n",
       "365838                            NaN                         NaN   \n",
       "131932                            NaN                         NaN   \n",
       "671155                            NaN                         NaN   \n",
       "121958                            NaN                         NaN   \n",
       "\n",
       "        dropoff_time_of_day_Afternoon  dropoff_time_of_day_Evening  \\\n",
       "469114                            NaN                          NaN   \n",
       "694852                            0.0                          1.0   \n",
       "696324                            0.0                          0.0   \n",
       "356496                            0.0                          0.0   \n",
       "645318                            0.0                          0.0   \n",
       "...                               ...                          ...   \n",
       "259178                            NaN                          NaN   \n",
       "365838                            NaN                          NaN   \n",
       "131932                            NaN                          NaN   \n",
       "671155                            NaN                          NaN   \n",
       "121958                            NaN                          NaN   \n",
       "\n",
       "        dropoff_time_of_day_Late night  dropoff_time_of_day_Morning  \n",
       "469114                             NaN                          NaN  \n",
       "694852                             0.0                          0.0  \n",
       "696324                             1.0                          0.0  \n",
       "356496                             0.0                          1.0  \n",
       "645318                             0.0                          1.0  \n",
       "...                                ...                          ...  \n",
       "259178                             NaN                          NaN  \n",
       "365838                             NaN                          NaN  \n",
       "131932                             NaN                          NaN  \n",
       "671155                             NaN                          NaN  \n",
       "121958                             NaN                          NaN  \n",
       "\n",
       "[729322 rows x 16 columns]"
      ]
     },
     "execution_count": 170,
     "metadata": {},
     "output_type": "execute_result"
    }
   ],
   "source": [
    "df = data.iloc[1:150001,]\n",
    "cat_cols = ['pickup_time_of_day', 'dropoff_time_of_day']\n",
    "df = pd.concat([data, pd.get_dummies(df[cat_cols].astype('str'))], axis=1)\n",
    "df.drop(columns = ['pickup_time_of_day', 'dropoff_time_of_day'],inplace = True)\n",
    "df"
   ]
  },
  {
   "cell_type": "code",
   "execution_count": 171,
   "id": "ff5e67bf",
   "metadata": {},
   "outputs": [],
   "source": [
    "# Performing the train test split function\n",
    "train_x,test_x,train_y,test_y = train_test_split(x,y, random_state = 56)"
   ]
  },
  {
   "cell_type": "code",
   "execution_count": 172,
   "id": "d351a622",
   "metadata": {},
   "outputs": [],
   "source": [
    "#Implementing and importing Linear Regression \n",
    "from sklearn.linear_model import LinearRegression as LR"
   ]
  },
  {
   "cell_type": "code",
   "execution_count": 173,
   "id": "decd3da8",
   "metadata": {},
   "outputs": [
    {
     "data": {
      "text/html": [
       "<style>#sk-container-id-1 {color: black;background-color: white;}#sk-container-id-1 pre{padding: 0;}#sk-container-id-1 div.sk-toggleable {background-color: white;}#sk-container-id-1 label.sk-toggleable__label {cursor: pointer;display: block;width: 100%;margin-bottom: 0;padding: 0.3em;box-sizing: border-box;text-align: center;}#sk-container-id-1 label.sk-toggleable__label-arrow:before {content: \"▸\";float: left;margin-right: 0.25em;color: #696969;}#sk-container-id-1 label.sk-toggleable__label-arrow:hover:before {color: black;}#sk-container-id-1 div.sk-estimator:hover label.sk-toggleable__label-arrow:before {color: black;}#sk-container-id-1 div.sk-toggleable__content {max-height: 0;max-width: 0;overflow: hidden;text-align: left;background-color: #f0f8ff;}#sk-container-id-1 div.sk-toggleable__content pre {margin: 0.2em;color: black;border-radius: 0.25em;background-color: #f0f8ff;}#sk-container-id-1 input.sk-toggleable__control:checked~div.sk-toggleable__content {max-height: 200px;max-width: 100%;overflow: auto;}#sk-container-id-1 input.sk-toggleable__control:checked~label.sk-toggleable__label-arrow:before {content: \"▾\";}#sk-container-id-1 div.sk-estimator input.sk-toggleable__control:checked~label.sk-toggleable__label {background-color: #d4ebff;}#sk-container-id-1 div.sk-label input.sk-toggleable__control:checked~label.sk-toggleable__label {background-color: #d4ebff;}#sk-container-id-1 input.sk-hidden--visually {border: 0;clip: rect(1px 1px 1px 1px);clip: rect(1px, 1px, 1px, 1px);height: 1px;margin: -1px;overflow: hidden;padding: 0;position: absolute;width: 1px;}#sk-container-id-1 div.sk-estimator {font-family: monospace;background-color: #f0f8ff;border: 1px dotted black;border-radius: 0.25em;box-sizing: border-box;margin-bottom: 0.5em;}#sk-container-id-1 div.sk-estimator:hover {background-color: #d4ebff;}#sk-container-id-1 div.sk-parallel-item::after {content: \"\";width: 100%;border-bottom: 1px solid gray;flex-grow: 1;}#sk-container-id-1 div.sk-label:hover label.sk-toggleable__label {background-color: #d4ebff;}#sk-container-id-1 div.sk-serial::before {content: \"\";position: absolute;border-left: 1px solid gray;box-sizing: border-box;top: 0;bottom: 0;left: 50%;z-index: 0;}#sk-container-id-1 div.sk-serial {display: flex;flex-direction: column;align-items: center;background-color: white;padding-right: 0.2em;padding-left: 0.2em;position: relative;}#sk-container-id-1 div.sk-item {position: relative;z-index: 1;}#sk-container-id-1 div.sk-parallel {display: flex;align-items: stretch;justify-content: center;background-color: white;position: relative;}#sk-container-id-1 div.sk-item::before, #sk-container-id-1 div.sk-parallel-item::before {content: \"\";position: absolute;border-left: 1px solid gray;box-sizing: border-box;top: 0;bottom: 0;left: 50%;z-index: -1;}#sk-container-id-1 div.sk-parallel-item {display: flex;flex-direction: column;z-index: 1;position: relative;background-color: white;}#sk-container-id-1 div.sk-parallel-item:first-child::after {align-self: flex-end;width: 50%;}#sk-container-id-1 div.sk-parallel-item:last-child::after {align-self: flex-start;width: 50%;}#sk-container-id-1 div.sk-parallel-item:only-child::after {width: 0;}#sk-container-id-1 div.sk-dashed-wrapped {border: 1px dashed gray;margin: 0 0.4em 0.5em 0.4em;box-sizing: border-box;padding-bottom: 0.4em;background-color: white;}#sk-container-id-1 div.sk-label label {font-family: monospace;font-weight: bold;display: inline-block;line-height: 1.2em;}#sk-container-id-1 div.sk-label-container {text-align: center;}#sk-container-id-1 div.sk-container {/* jupyter's `normalize.less` sets `[hidden] { display: none; }` but bootstrap.min.css set `[hidden] { display: none !important; }` so we also need the `!important` here to be able to override the default hidden behavior on the sphinx rendered scikit-learn.org. See: https://github.com/scikit-learn/scikit-learn/issues/21755 */display: inline-block !important;position: relative;}#sk-container-id-1 div.sk-text-repr-fallback {display: none;}</style><div id=\"sk-container-id-1\" class=\"sk-top-container\"><div class=\"sk-text-repr-fallback\"><pre>LinearRegression()</pre><b>In a Jupyter environment, please rerun this cell to show the HTML representation or trust the notebook. <br />On GitHub, the HTML representation is unable to render, please try loading this page with nbviewer.org.</b></div><div class=\"sk-container\" hidden><div class=\"sk-item\"><div class=\"sk-estimator sk-toggleable\"><input class=\"sk-toggleable__control sk-hidden--visually\" id=\"sk-estimator-id-1\" type=\"checkbox\" checked><label for=\"sk-estimator-id-1\" class=\"sk-toggleable__label sk-toggleable__label-arrow\">LinearRegression</label><div class=\"sk-toggleable__content\"><pre>LinearRegression()</pre></div></div></div></div></div>"
      ],
      "text/plain": [
       "LinearRegression()"
      ]
     },
     "execution_count": 173,
     "metadata": {},
     "output_type": "execute_result"
    }
   ],
   "source": [
    "# Creating instance of Linear Regresssion\n",
    "lr = LR()\n",
    "\n",
    "# Fitting the model\n",
    "lr.fit(train_x, train_y)"
   ]
  },
  {
   "cell_type": "code",
   "execution_count": 174,
   "id": "0332a01c",
   "metadata": {},
   "outputs": [
    {
     "name": "stdout",
     "output_type": "stream",
     "text": [
      "Training Mean Absolute Error 1.1216615220544882e-14\n"
     ]
    }
   ],
   "source": [
    "# Predicting over the Train Set and calculating error\n",
    "train_predict = lr.predict(train_x)\n",
    "k = MAE(train_predict, train_y)\n",
    "print('Training Mean Absolute Error', k )"
   ]
  },
  {
   "cell_type": "code",
   "execution_count": 175,
   "id": "ad149528",
   "metadata": {},
   "outputs": [
    {
     "name": "stdout",
     "output_type": "stream",
     "text": [
      "Test Mean Absolute Error     1.112948637474002e-14\n"
     ]
    }
   ],
   "source": [
    "# Predicting over the Test Set and calculating error\n",
    "test_predict = lr.predict(test_x)\n",
    "k = MAE(test_predict, test_y)\n",
    "print('Test Mean Absolute Error    ', k )"
   ]
  },
  {
   "cell_type": "markdown",
   "id": "30fdcd99",
   "metadata": {},
   "source": [
    "#### Parameters of Linear Regression"
   ]
  },
  {
   "cell_type": "code",
   "execution_count": 176,
   "id": "27704440",
   "metadata": {},
   "outputs": [
    {
     "data": {
      "text/plain": [
       "array([-9.66507073e-16,  2.06334949e-13,  1.02053891e-13, -4.41454964e-13,\n",
       "       -4.15677258e-13,  5.38815278e+02, -2.19269047e-15,  1.51894635e-01,\n",
       "        1.51894635e-01,  1.51894635e-01,  1.51894635e-01, -9.15061330e-03,\n",
       "       -9.15061330e-03, -9.15061330e-03, -9.15061330e-03])"
      ]
     },
     "execution_count": 176,
     "metadata": {},
     "output_type": "execute_result"
    }
   ],
   "source": [
    "lr.coef_"
   ]
  },
  {
   "cell_type": "markdown",
   "id": "96d046cd",
   "metadata": {},
   "source": [
    "#### Plotting the coefficients"
   ]
  },
  {
   "cell_type": "code",
   "execution_count": 177,
   "id": "93a9c547",
   "metadata": {},
   "outputs": [
    {
     "data": {
      "text/plain": [
       "range(0, 15)"
      ]
     },
     "execution_count": 177,
     "metadata": {},
     "output_type": "execute_result"
    }
   ],
   "source": [
    "range(len(train_x.columns))"
   ]
  },
  {
   "cell_type": "code",
   "execution_count": 182,
   "id": "cf1749c0",
   "metadata": {},
   "outputs": [
    {
     "data": {
      "text/plain": [
       "Text(0.5, 1.0, 'coefficient plot')"
      ]
     },
     "execution_count": 182,
     "metadata": {},
     "output_type": "execute_result"
    },
    {
     "data": {
      "image/png": "[encoded data removed]",
      "text/plain": [
       "<Figure size 960x720 with 1 Axes>"
      ]
     },
     "metadata": {},
     "output_type": "display_data"
    }
   ],
   "source": [
    "plt.figure(figsize=(8,6), dpi=120, facecolor=\"w\", edgecolor=\"b\")\n",
    "x=range(len(train_x.columns))\n",
    "y=lr.coef_\n",
    "plt.bar(x,y)\n",
    "plt.xlabel(\"variables\")\n",
    "plt.ylabel(\"coefficents\")\n",
    "plt.title(\"coefficient plot\")\n"
   ]
  },
  {
   "cell_type": "code",
   "execution_count": 189,
   "id": "a4b39865",
   "metadata": {},
   "outputs": [
    {
     "data": {
      "text/html": [
       "<div>\n",
       "<style scoped>\n",
       "    .dataframe tbody tr th:only-of-type {\n",
       "        vertical-align: middle;\n",
       "    }\n",
       "\n",
       "    .dataframe tbody tr th {\n",
       "        vertical-align: top;\n",
       "    }\n",
       "\n",
       "    .dataframe thead th {\n",
       "        text-align: right;\n",
       "    }\n",
       "</style>\n",
       "<table border=\"1\" class=\"dataframe\">\n",
       "  <thead>\n",
       "    <tr style=\"text-align: right;\">\n",
       "      <th></th>\n",
       "      <th>fitted values</th>\n",
       "      <th>predicted values</th>\n",
       "      <th>residuals</th>\n",
       "    </tr>\n",
       "  </thead>\n",
       "  <tbody>\n",
       "    <tr>\n",
       "      <th>359019</th>\n",
       "      <td>0.147222</td>\n",
       "      <td>0.147222</td>\n",
       "      <td>5.356826e-15</td>\n",
       "    </tr>\n",
       "    <tr>\n",
       "      <th>609490</th>\n",
       "      <td>0.162500</td>\n",
       "      <td>0.162500</td>\n",
       "      <td>9.298118e-15</td>\n",
       "    </tr>\n",
       "    <tr>\n",
       "      <th>328509</th>\n",
       "      <td>0.208056</td>\n",
       "      <td>0.208056</td>\n",
       "      <td>-2.625677e-14</td>\n",
       "    </tr>\n",
       "    <tr>\n",
       "      <th>124487</th>\n",
       "      <td>0.125833</td>\n",
       "      <td>0.125833</td>\n",
       "      <td>1.137979e-15</td>\n",
       "    </tr>\n",
       "    <tr>\n",
       "      <th>116857</th>\n",
       "      <td>0.478611</td>\n",
       "      <td>0.478611</td>\n",
       "      <td>-2.703393e-14</td>\n",
       "    </tr>\n",
       "  </tbody>\n",
       "</table>\n",
       "</div>"
      ],
      "text/plain": [
       "        fitted values  predicted values     residuals\n",
       "359019       0.147222          0.147222  5.356826e-15\n",
       "609490       0.162500          0.162500  9.298118e-15\n",
       "328509       0.208056          0.208056 -2.625677e-14\n",
       "124487       0.125833          0.125833  1.137979e-15\n",
       "116857       0.478611          0.478611 -2.703393e-14"
      ]
     },
     "execution_count": 189,
     "metadata": {},
     "output_type": "execute_result"
    }
   ],
   "source": [
    "# Arranging and calculating the Residuals\n",
    "residuals = pd.DataFrame({\n",
    "    'fitted values' : test_y,\n",
    "    'predicted values' : test_predict})\n",
    "\n",
    "residuals['residuals'] = residuals['fitted values'] - residuals['predicted values']\n",
    "residuals.head()"
   ]
  },
  {
   "cell_type": "code",
   "execution_count": 190,
   "id": "88dd2801",
   "metadata": {},
   "outputs": [
    {
     "data": {
      "image/png": "[encoded data removed]",
      "text/plain": [
       "<Figure size 1200x900 with 1 Axes>"
      ]
     },
     "metadata": {},
     "output_type": "display_data"
    }
   ],
   "source": [
    "plt.figure(figsize=(8,6),dpi=150,facecolor=\"w\",edgecolor=\"b\")\n",
    "plt.hist(residuals.residuals,bins=100)\n",
    "plt.xlabel(\"error\")\n",
    "plt.ylabel(\"frequency\")\n",
    "plt.title(\"distribution of error terms\")\n",
    "plt.show()"
   ]
  },
  {
   "cell_type": "code",
   "execution_count": 191,
   "id": "85bbc438",
   "metadata": {},
   "outputs": [
    {
     "data": {
      "image/png": "[encoded data removed]",
      "text/plain": [
       "<Figure size 600x600 with 1 Axes>"
      ]
     },
     "metadata": {},
     "output_type": "display_data"
    }
   ],
   "source": [
    "# importing the QQ-plot from the from the statsmodels\n",
    "from statsmodels.graphics.gofplots import qqplot\n",
    "\n",
    "## Plotting the QQ plot\n",
    "fig, ax = plt.subplots(figsize=(5,5) , dpi = 120)\n",
    "qqplot(residuals.residuals, line = 's' , ax = ax)\n",
    "plt.ylabel('Residual Quantiles')\n",
    "plt.xlabel('Ideal Scaled Quantiles')\n",
    "plt.legend([\"Residual Quantiles\",\"Ideal Scaled Quantiles\"])\n",
    "plt.title('Checking distribution of Residual Errors')\n",
    "plt.show()"
   ]
  },
  {
   "cell_type": "code",
   "execution_count": 192,
   "id": "da3d541e",
   "metadata": {},
   "outputs": [
    {
     "data": {
      "text/plain": [
       "100.0"
      ]
     },
     "execution_count": 192,
     "metadata": {},
     "output_type": "execute_result"
    }
   ],
   "source": [
    "#calculating the train score \n",
    "\n",
    "linear_train_score = lr.score(train_x,train_y)\n",
    "linear_train_score*100"
   ]
  },
  {
   "cell_type": "code",
   "execution_count": 193,
   "id": "998ce265",
   "metadata": {},
   "outputs": [
    {
     "data": {
      "text/plain": [
       "100.0"
      ]
     },
     "execution_count": 193,
     "metadata": {},
     "output_type": "execute_result"
    }
   ],
   "source": [
    "#calculating the test score\n",
    "\n",
    "linear_test_score = lr.score(test_x,test_y)\n",
    "linear_test_score*100"
   ]
  },
  {
   "cell_type": "markdown",
   "id": "7b51baa5",
   "metadata": {},
   "source": [
    "# Conclusions\n",
    "\n",
    "1. The training and test MAE has a huge difference as the training MAE is 1.1216615220544882e-14 and testing MAE is 1.112948637474002e-14\n",
    "2. The coefficients we observed that there are some negative values as well and on plotting the qqplot we see that the residual quantile line doesn't fit over all ideal scaled quantiles.\n"
   ]
  },
  {
   "cell_type": "markdown",
   "id": "0b2ea6aa",
   "metadata": {},
   "source": [
    "## Plotting Bar Graph\n"
   ]
  },
  {
   "cell_type": "code",
   "execution_count": 194,
   "id": "06ec51af",
   "metadata": {},
   "outputs": [
    {
     "data": {
      "text/plain": [
       "(1.0, 0.23577168212623856)"
      ]
     },
     "execution_count": 194,
     "metadata": {},
     "output_type": "execute_result"
    }
   ],
   "source": [
    "linear_train_score,knn_train_score"
   ]
  },
  {
   "cell_type": "code",
   "execution_count": 195,
   "id": "0b19e850",
   "metadata": {},
   "outputs": [
    {
     "data": {
      "image/png": "[encoded data removed]",
      "text/plain": [
       "<Figure size 640x480 with 1 Axes>"
      ]
     },
     "metadata": {},
     "output_type": "display_data"
    }
   ],
   "source": [
    "#assining the train score values in x,y\n",
    "x=[\"linear_train_score\",\"knn_train_score\"]\n",
    "y=[1.0, 0.23577168212623856 ]\n",
    "plt.figure(dpi=100)\n",
    "plt.bar(x,y)\n",
    "plt.xlabel(\"models\")\n",
    "plt.ylabel(\"train scores\")\n",
    "plt.show()"
   ]
  },
  {
   "cell_type": "markdown",
   "id": "f011b937",
   "metadata": {},
   "source": [
    "#### Test score"
   ]
  },
  {
   "cell_type": "code",
   "execution_count": 204,
   "id": "160db5b6",
   "metadata": {},
   "outputs": [
    {
     "data": {
      "text/plain": [
       "(0.2752035767562998, 1.0, 0.17207002339174687)"
      ]
     },
     "execution_count": 204,
     "metadata": {},
     "output_type": "execute_result"
    }
   ],
   "source": [
    "knn_test_score, linear_test_score,simple_mean_error"
   ]
  },
  {
   "cell_type": "code",
   "execution_count": 205,
   "id": "c112b677",
   "metadata": {},
   "outputs": [
    {
     "data": {
      "image/png": "[encoded data removed]",
      "text/plain": [
       "<Figure size 640x480 with 1 Axes>"
      ]
     },
     "metadata": {},
     "output_type": "display_data"
    }
   ],
   "source": [
    "#assining the test score value in x1,y1\n",
    "x1=[\"knn_test_score\",\"linear_test_score\",\"simple_mean_error\"]\n",
    "y1=[0.2752035767562998, 1.0, 0.17207002339174687]\n",
    "plt.figure(dpi=100)\n",
    "plt.bar(x1,y1)\n",
    "plt.xlabel(\"models\")\n",
    "plt.ylabel(\"train scores\")\n",
    "plt.show()"
   ]
  },
  {
   "cell_type": "markdown",
   "id": "7d74e046",
   "metadata": {},
   "source": [
    "### Conclusion\n",
    "\n",
    " From the above bar graph for both train and test score i prefer linear model is the best."
   ]
  },
  {
   "cell_type": "code",
   "execution_count": null,
   "id": "773921ab",
   "metadata": {},
   "outputs": [],
   "source": []
  }
 ],
 "metadata": {
  "kernelspec": {
   "display_name": "Python 3 (ipykernel)",
   "language": "python",
   "name": "python3"
  },
  "language_info": {
   "codemirror_mode": {
    "name": "ipython",
    "version": 3
   },
   "file_extension": ".py",
   "mimetype": "text/x-python",
   "name": "python",
   "nbconvert_exporter": "python",
   "pygments_lexer": "ipython3",
   "version": "3.10.9"
  }
 },
 "nbformat": 4,
 "nbformat_minor": 5
}
